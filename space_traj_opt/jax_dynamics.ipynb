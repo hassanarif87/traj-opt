{
 "cells": [
  {
   "cell_type": "code",
   "execution_count": null,
   "metadata": {},
   "outputs": [],
   "source": [
    "import jax.numpy as jnp\n",
    "from jax import jit, vmap\n",
    "import diffrax as dfx\n",
    "\n",
    "# Constants\n",
    "STANDARD_GRAV = 9.81\n",
    "\n",
    "# Define control function\n",
    "@jit\n",
    "def lts_control(t, x , params):\n",
    "    a = params[3]\n",
    "    b = params[4]\n",
    "    return jnp.arctan(a*t+ b)\n",
    "# Define dynamics function with JAX\n",
    "@jit\n",
    "def dynamics(t, x, params):\n",
    "    thrust, g, Isp = params\n",
    "    u = lts_control(t, x, params)\n",
    "    \n",
    "    cos_theta = jnp.cos(u)\n",
    "    sin_theta = jnp.sin(u)\n",
    "    \n",
    "    dx = jnp.zeros_like(x)\n",
    "    dx = dx.at[0].set(x[2])                         # dx[0] = x[2]\n",
    "    dx = dx.at[1].set(x[3])                         # dx[1] = x[3]\n",
    "    dx = dx.at[2].set((thrust * cos_theta) / x[4])  # dx[2] = (thrust * cos_theta) / x[4]\n",
    "    dx = dx.at[3].set((thrust * sin_theta) / x[4] - g)  # dx[3] = (thrust * sin_theta) / x[4] - g\n",
    "    dx = dx.at[4].set(-thrust / (STANDARD_GRAV * Isp))  # dx[4] = -thrust / (STANDARD_GRAV * Isp)\n",
    "    \n",
    "    return dx\n",
    "\n",
    "# Vectorize the dynamics function\n",
    "vectorized_dynamics = vmap(dynamics, in_axes=(None, 0, None))\n",
    "\n",
    "# Set up parameters and initial conditions\n",
    "params = jnp.array([25000.0, 9.81, 300.0])  # Example: thrust, gravity, specific impulse, a0, b0\n",
    "x0 = jnp.array([0.0, 0.0, 1.0, 1.0, 100.0])  # Initial state [x, y, vx, vy, mass]\n",
    "t0, t1 = 0.0, 10.0  # Time span\n",
    "\n",
    "# Set up the differential equation problem in Diffrax\n",
    "solver = dfx.Tsit5()  # Tsitouras 5/4 Runge-Kutta method\n",
    "stepsize_controller = dfx.ConstantStepSize()  # Optional: constant step size\n",
    "\n",
    "# Define the problem with Diffrax\n",
    "term = dfx.ODETerm(lambda t, x, args: dynamics(t, x, params))\n",
    "solver = dfx.diffeqsolve(term, solver, t0=t0, t1=t1, dt0=0.1, y0=x0)\n",
    "\n",
    "# Solution times and states\n",
    "print(\"Times:\", solver.ts)\n",
    "print(\"Solution:\", solver.ys)"
   ]
  },
  {
   "cell_type": "code",
   "execution_count": null,
   "metadata": {},
   "outputs": [],
   "source": []
  }
 ],
 "metadata": {
  "kernelspec": {
   "display_name": "space-traj-opt-JRbM3DHw-py3.10",
   "language": "python",
   "name": "python3"
  },
  "language_info": {
   "codemirror_mode": {
    "name": "ipython",
    "version": 3
   },
   "file_extension": ".py",
   "mimetype": "text/x-python",
   "name": "python",
   "nbconvert_exporter": "python",
   "pygments_lexer": "ipython3",
   "version": "3.10.12"
  }
 },
 "nbformat": 4,
 "nbformat_minor": 2
}
