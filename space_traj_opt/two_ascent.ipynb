{
 "cells": [
  {
   "cell_type": "code",
   "execution_count": null,
   "metadata": {},
   "outputs": [],
   "source": [
    "import numpy as np\n",
    "from  numpy import deg2rad as d2r\n",
    "from  numpy import array as arr\n",
    "\n",
    "import numba\n",
    "from scipy.integrate import solve_ivp, OdeSolution\n",
    "from scipy.optimize import minimize, OptimizeResult\n",
    "from functools import lru_cache\n",
    "from models import dynamics, CtrlMode, STANDARD_GRAV\n",
    "from transcription import MultiShootingTranscription\n",
    "\n",
    "from plotting import plot"
   ]
  },
  {
   "cell_type": "code",
   "execution_count": null,
   "metadata": {},
   "outputs": [],
   "source": [
    "mu_earth = 3.986004418e14\n",
    "earth_r = 6_378_000 # m\n",
    "circ_orbit_alt = 200_000 \n",
    "v_circ = np.sqrt(mu_earth / (earth_r + circ_orbit_alt))"
   ]
  },
  {
   "cell_type": "code",
   "execution_count": null,
   "metadata": {},
   "outputs": [],
   "source": []
  },
  {
   "cell_type": "code",
   "execution_count": null,
   "metadata": {},
   "outputs": [],
   "source": [
    "n_engines_s1 = 9\n",
    "n_engines_s2 = 1\n",
    "isp_s1 = 311\n",
    "engine_thrust_s1 = n_engines_s1*24910.04  # N Average between sl and vac\n",
    "isp_s2 = 343\n",
    "engine_thrust_s2 = n_engines_s2* 25_000  # N\n",
    "s1_vch_params = (engine_thrust_s1, isp_s1)\n",
    "s2_vch_params = (engine_thrust_s2, isp_s2)\n",
    "\n",
    "fairing_mass = 50\n",
    "farinig_timing = 184 - 162 # sec\n",
    "payload = 250\n",
    "s1_dry_mass = 1076.47308279  \n",
    "s2_dry_mass = 257.90093739  \n",
    "\n",
    "s1_wet_mass = 10047.082106064723\n",
    "s2_wet_mass = 2602.454913676189\n",
    "total_mass = 12949.537019740912\n",
    "\n",
    "mdot_s1 = engine_thrust_s1 / STANDARD_GRAV / isp_s1\n",
    "mdot_s2 = engine_thrust_s2 / STANDARD_GRAV / isp_s2\n",
    "\n",
    "mdot_s2"
   ]
  },
  {
   "cell_type": "code",
   "execution_count": null,
   "metadata": {},
   "outputs": [],
   "source": [
    "farinig_timing * mdot_s2"
   ]
  },
  {
   "cell_type": "code",
   "execution_count": null,
   "metadata": {},
   "outputs": [],
   "source": [
    "\n",
    "NUM_X= 5\n",
    "NUM_U = 5\n",
    "NUM_PHASE = 4\n",
    "\n",
    "# Guesses \n",
    "x0 = arr([\n",
    "    [0,0,0,0,total_mass], \n",
    "    [7.5,390,1.5,80,12200],\n",
    "    [30000,60000,2000,500,s2_wet_mass + payload + fairing_mass],\n",
    "    [45000,80000,2800,1000,s2_wet_mass + payload - farinig_timing * mdot_s2]\n",
    "])\n",
    "\n",
    "x_f = arr([200_000, circ_orbit_alt, v_circ, 0.0, s2_dry_mass + payload])"
   ]
  },
  {
   "cell_type": "code",
   "execution_count": null,
   "metadata": {},
   "outputs": [],
   "source": [
    "problem = MultiShootingTranscription([\"phase0\", \"phase1\", \"phase2\", \"phase3\"], 5)\n",
    "\n",
    "problem.set_dynamics_params(\"phase0\", s1_vch_params)\n",
    "problem.set_dynamics_params(\"phase1\", s1_vch_params)\n",
    "problem.set_dynamics_params(\"phase2\", s2_vch_params)\n",
    "problem.set_dynamics_params(\"phase3\", s2_vch_params)"
   ]
  },
  {
   "cell_type": "code",
   "execution_count": null,
   "metadata": {},
   "outputs": [],
   "source": [
    "problem.set_phase_init_x(\"phase0\", x0 = x0[0], bounds= x0[0])\n",
    "problem.set_phase_control(\"phase0\", CtrlMode.ANGLE_STEER , u0 = d2r(89.5), bounds = [(d2r(85), d2r(89.8))])\n",
    "problem.set_phase_time(\"phase0\", t0 = 10, bounds = 10)\n",
    "\n",
    "problem.set_phase_init_x(\"phase1\", x0 = x0[1])\n",
    "problem.set_phase_control(\"phase1\", CtrlMode.ZERO_ALPHA , u0 = [])\n",
    "problem.set_phase_time(\"phase1\", t0 = 100, bounds=(60, 180))\n",
    "\n",
    "problem.set_phase_init_x(\"phase2\", x0 = x0[2])\n",
    "problem.set_phase_control(\"phase2\", CtrlMode.LTS , u0 = arr([-0.001,1]), bounds = [(-0.1,0.1), (-3,3)])\n",
    "problem.set_phase_time(\"phase2\", t0 = farinig_timing, bounds = farinig_timing)\n",
    "\n",
    "problem.set_phase_init_x(\"phase3\", x0 = x0[3])\n",
    "problem.set_phase_control(\"phase3\", CtrlMode.LTS , u0 = arr([-0.001,1]), bounds = [(-0.1,0.1), (-3,3)])\n",
    "problem.set_phase_time(\"phase3\", t0 = 320)\n",
    "\n",
    "problem.set_non_zero_defect((\"phase1\", \"phase2\"), arr([0,0,0,0,s1_dry_mass]))\n",
    "problem.set_non_zero_defect((\"phase2\", \"phase3\"), arr([0,0,0,0,fairing_mass]))\n",
    "\n",
    "problem.set_terminal_state(x_final = x_f, bounds = arr([None, circ_orbit_alt, v_circ, 0, None ]))"
   ]
  },
  {
   "cell_type": "code",
   "execution_count": null,
   "metadata": {},
   "outputs": [],
   "source": [
    "d0, d_bounds, full_params = problem.build()"
   ]
  },
  {
   "cell_type": "code",
   "execution_count": null,
   "metadata": {},
   "outputs": [],
   "source": [
    "def unpack_decision_var(decision_var, config, phase_id):\n",
    "    control_law = config[0]\n",
    "    u = decision_var[:NUM_U][range(*config[1])]\n",
    "    x = decision_var[NUM_U:(NUM_PHASE+1)*NUM_X + NUM_U].reshape(NUM_PHASE+1, NUM_X)[phase_id]\n",
    "    t_terminal = decision_var[-NUM_PHASE:][phase_id] # Time is the last decision var here\n",
    "    return (u, x, t_terminal, control_law)\n",
    "\n",
    "\n",
    "# @lru_cache(maxsize=128, typed=True)\n",
    "def traj_rollout(t_terminal, x0, params: tuple) -> OdeSolution:\n",
    "    \n",
    "    sol = solve_ivp(\n",
    "        dynamics, \n",
    "        t_span=[0.0, t_terminal], \n",
    "        t_eval= np.linspace(0.0, t_terminal), # This greatly improves convergance and stability of the jac\n",
    "        y0=x0,    \n",
    "        args=(params,)\n",
    "    )\n",
    "    return sol  \n",
    "\n",
    "def full_traj_rollout(d0, config_list):\n",
    "    sol_list = []\n",
    "    for  phase_id, config in enumerate(config_list):\n",
    "\n",
    "        u, x, t_terminal, control_law = unpack_decision_var(d0,config, phase_id=phase_id)\n",
    "        vch_params = (config[3],(control_law, u))\n",
    "        #if sol is not None:\n",
    "        #    x = sol.y[:,-1]\n",
    "        sol = traj_rollout(t_terminal, x, vch_params)\n",
    "        sol_list.append(sol)\n",
    "    return sol_list\n",
    "\n",
    "def dynamics_knot_constrant(d0, config_list): \n",
    "    defect_vector_list = []\n",
    "    sol_list=  full_traj_rollout(d0, config_list)\n",
    "    for idx in range(1,NUM_PHASE):\n",
    "        _,_, knot_defect,_ = config_list[idx]\n",
    "        defect_sub_vector = sol_list[idx].y[:,0] - sol_list[idx-1].y[:,-1] + knot_defect\n",
    "        defect_vector_list.append(defect_sub_vector)\n",
    "    # Terminal Defect \n",
    "    terminal_state = d0[NUM_U:(NUM_PHASE+1)*NUM_X + NUM_U].reshape(NUM_PHASE+1, NUM_X)[-1]\n",
    "    terminal_defect = terminal_state - sol_list[-1].y[:,-1]\n",
    "    defect_vector_list.append(terminal_defect)\n",
    "    defect_vec = arr(defect_vector_list).flatten()\n",
    "    return defect_vec"
   ]
  },
  {
   "cell_type": "code",
   "execution_count": null,
   "metadata": {},
   "outputs": [],
   "source": [
    "constraints = [{'type': 'eq', 'fun': dynamics_knot_constrant, 'args':(full_params,) },]"
   ]
  },
  {
   "cell_type": "code",
   "execution_count": null,
   "metadata": {},
   "outputs": [],
   "source": [
    "def objective(decision_var: tuple, params: tuple) -> float:\n",
    "        \"\"\"Objective function for min prop\n",
    "\n",
    "        Args:\n",
    "            decision_var : Optimization problem decision vector\n",
    "            params : \n",
    "\n",
    "        Returns:\n",
    "            Cost to minimize\n",
    "        \"\"\"\n",
    "        x = decision_var[NUM_U:(NUM_PHASE+1)*NUM_X + NUM_U].reshape(NUM_PHASE+1, NUM_X)\n",
    "        terminal_state = x[-1]\n",
    "        terminal_mass= terminal_state[-1]\n",
    "        return -terminal_mass*terminal_mass\n",
    "\n",
    "\n",
    "# def jac_objective(decision_var: tuple, params: tuple):\n",
    "#         jac = np.zeros_like(decision_var)\n",
    "#         val = -decision_var[29] - decision_var[29]\n",
    "#         jac[29]= val\n",
    "#         return jac"
   ]
  },
  {
   "cell_type": "code",
   "execution_count": null,
   "metadata": {},
   "outputs": [],
   "source": [
    "result = minimize(\n",
    "    objective, \n",
    "    d0, \n",
    "    # jac= jac_objective,\n",
    "    method='SLSQP', \n",
    "    bounds=d_bounds, \n",
    "    constraints=constraints,\n",
    "    options = {\"maxiter\": 500, \"disp\": True},\n",
    "    args=(full_params,)\n",
    ")\n",
    "result"
   ]
  },
  {
   "cell_type": "code",
   "execution_count": null,
   "metadata": {},
   "outputs": [],
   "source": [
    "sol_list = full_traj_rollout(result.x, full_params)"
   ]
  },
  {
   "cell_type": "code",
   "execution_count": null,
   "metadata": {},
   "outputs": [],
   "source": [
    "def unpack_sol_list(sol_list_in , state_index):\n",
    "    t_offsets = 0\n",
    "    x_list = []\n",
    "    y_list = []\n",
    "    for sol in sol_list_in:\n",
    "        x_list.append(sol.t + t_offsets )\n",
    "        y_list.append(sol.y[state_index] )\n",
    "        t_offsets += sol.t[-1]\n",
    "\n",
    "    return x_list, y_list"
   ]
  },
  {
   "cell_type": "code",
   "execution_count": null,
   "metadata": {},
   "outputs": [],
   "source": [
    "plot(\n",
    "    *unpack_sol_list(sol_list,0),\n",
    "    title=\"Time vs States\", \n",
    "    xlabel=\"Time\", \n",
    "    ylabel=\"Pos x\",\n",
    "    trace_names=(\"phase0\", \"phase1\", \"phase2\", \"phase3\")\n",
    "    )"
   ]
  },
  {
   "cell_type": "code",
   "execution_count": null,
   "metadata": {},
   "outputs": [],
   "source": [
    "plot(\n",
    "    *unpack_sol_list(sol_list,1),\n",
    "    title=\"Time vs States\", \n",
    "    xlabel=\"Time\", \n",
    "    ylabel=\"Pos y\",\n",
    "    trace_names=(\"phase0\", \"phase1\", \"phase2\", \"phase3\")\n",
    "    )\n"
   ]
  },
  {
   "cell_type": "code",
   "execution_count": null,
   "metadata": {},
   "outputs": [],
   "source": [
    "plot(\n",
    "    *unpack_sol_list(sol_list,2),\n",
    "    title=\"Time vs States\", \n",
    "    xlabel=\"Time\", \n",
    "    ylabel=\"Vel\",\n",
    "    trace_names=(\"phase0\", \"phase1\", \"phase2\", \"phase3\")\n",
    "    )"
   ]
  },
  {
   "cell_type": "code",
   "execution_count": null,
   "metadata": {},
   "outputs": [],
   "source": [
    "plot(\n",
    "    *unpack_sol_list(sol_list,3),\n",
    "    title=\"Time vs States\", \n",
    "    xlabel=\"Time\", \n",
    "    ylabel=\"Vel\",\n",
    "    trace_names=(\"phase0\", \"phase1\", \"phase2\", \"phase3\")\n",
    "    )"
   ]
  },
  {
   "cell_type": "code",
   "execution_count": null,
   "metadata": {},
   "outputs": [],
   "source": [
    "plot(\n",
    "    *unpack_sol_list(sol_list,4),\n",
    "    title=\"Time vs States\", \n",
    "    xlabel=\"Time\", \n",
    "    ylabel=\"Mass\",\n",
    "    trace_names=(\"phase0\", \"phase1\", \"phase2\", \"phase3\")\n",
    "    )"
   ]
  }
 ],
 "metadata": {
  "kernelspec": {
   "display_name": "space-traj-opt-JRbM3DHw-py3.10",
   "language": "python",
   "name": "python3"
  },
  "language_info": {
   "codemirror_mode": {
    "name": "ipython",
    "version": 3
   },
   "file_extension": ".py",
   "mimetype": "text/x-python",
   "name": "python",
   "nbconvert_exporter": "python",
   "pygments_lexer": "ipython3",
   "version": "3.10.12"
  }
 },
 "nbformat": 4,
 "nbformat_minor": 2
}
