{
 "cells": [
  {
   "cell_type": "code",
   "execution_count": null,
   "metadata": {},
   "outputs": [],
   "source": [
    "import numpy as np\n",
    "import numba\n",
    "import matplotlib.pyplot as plt\n",
    "from scipy.optimize import minimize\n",
    "from scipy.integrate import solve_ivp\n",
    "from plotting import plot\n",
    "from typing import Callable\n"
   ]
  },
  {
   "cell_type": "code",
   "execution_count": null,
   "metadata": {},
   "outputs": [],
   "source": [
    "STANDARD_GRAV = 9.80665\n",
    "Cd = 0.8\n",
    "S_ref = 10\n",
    "thrust = 2100000.0\n",
    "g0 = STANDARD_GRAV\n",
    "Isp = 350\n",
    "#a0 = -0.001\n",
    "#b0 = 3.0\n",
    "config_list = [\n",
    "    ((0,10),None, (thrust, Isp), (0,  (np.pi/2*0.9))),\n",
    "    ((None,500), None,(thrust, Isp), (1,  (None))),\n",
    "]\n",
    "\n",
    "\n",
    "x0 = np.array([0,0,0,0,120000])"
   ]
  },
  {
   "cell_type": "code",
   "execution_count": null,
   "metadata": {},
   "outputs": [],
   "source": [
    "\n",
    "@numba.njit\n",
    "def angle_steering(t: float, x: np.array , params: tuple) -> float:\n",
    "    u = params\n",
    "    return u\n",
    "@numba.njit\n",
    "def zero_alpha(t: float, x: np.array , params: tuple) -> float:\n",
    "    \"\"\"For zero alpha pitch = flight path angle \n",
    "    Args:\n",
    "        t : time\n",
    "        x : Vehicle state\n",
    "        params : control law params, this law has no parameters \n",
    "    Returns:\n",
    "        Desired pitch\n",
    "    \"\"\"\n",
    "    vx, vy = x[2:4]\n",
    "    return np.arctan2(vy, vx)\n",
    "@numba.njit\n",
    "def polynomial_steering(t: float, x: np.array , params: tuple) -> float:\n",
    "    a,b,c = params\n",
    "    return a*t**2 + b*t + c\n",
    "@numba.njit\n",
    "def lts_control(t: float, x: np.array , params: tuple) -> float:\n",
    "    a,b = params\n",
    "    return np.arctan(a*t+ b)\n"
   ]
  },
  {
   "cell_type": "code",
   "execution_count": null,
   "metadata": {},
   "outputs": [],
   "source": [
    "#@numba.njit\n",
    "def control(t: float, x: np.array, params:tuple) -> float:\n",
    "    \"\"\"Functions selects the parameterized control scheme and returns the desired pitch angle\n",
    "\n",
    "    Args:\n",
    "        t : time\n",
    "        x : Vehicle state\n",
    "        params : Tuple of parameters containing the control type and control law parameters\n",
    "\n",
    "    Returns:\n",
    "        Desired pitch\n",
    "    \"\"\"\n",
    "    ctrl_type, ctrl_param= params\n",
    "    if ctrl_type == 0:\n",
    "        return angle_steering(t, x, ctrl_param)\n",
    "    elif ctrl_type == 1:\n",
    "        return zero_alpha(t, x, ctrl_param)\n",
    "    elif ctrl_type == 2:\n",
    "        return polynomial_steering(t, x, ctrl_param)\n",
    "    elif ctrl_type == 3:\n",
    "        return lts_control(t, x, ctrl_param)\n",
    "    else:\n",
    "        print(\"Control law not define\")"
   ]
  },
  {
   "cell_type": "code",
   "execution_count": null,
   "metadata": {},
   "outputs": [],
   "source": [
    "#@numba.njit\n",
    "def dynamics(t, x, params):\n",
    "    Cd = 0.8\n",
    "    S_ref = 10\n",
    "    thrust, Isp = params[0]\n",
    "    u = control(t, x, params[1])\n",
    "    cos_theta  = np.cos(u)\n",
    "    sin_theta  = np.sin(u)\n",
    "    dx = np.zeros_like(x)\n",
    "    dx[0] = x[2]\n",
    "    dx[1] = x[3]\n",
    "    dx[2] =  (thrust * cos_theta ) / x[4] \n",
    "    dx[3] =  (thrust * sin_theta )  / x[4] - g0\n",
    "    dx[4] =  -thrust / STANDARD_GRAV / Isp\n",
    "    return dx"
   ]
  },
  {
   "cell_type": "code",
   "execution_count": null,
   "metadata": {},
   "outputs": [],
   "source": [
    "def mass_limit(t, x, params):\n",
    "    return x[4] - 1000\n",
    "\n",
    "mass_limit.terminal = True\n",
    "mass_limit.direction = -1  # Terminate when value crosses zero"
   ]
  },
  {
   "cell_type": "markdown",
   "metadata": {},
   "source": [
    "$$ q={\\frac {1}{2}}\\rho \\,u^{2} $$\n"
   ]
  },
  {
   "cell_type": "code",
   "execution_count": null,
   "metadata": {},
   "outputs": [],
   "source": [
    "@lru_cache(maxsize=128, typed=True)\n",
    "def problem_rollout(x0: np.array, config_list: list):\n",
    "    arr = tuple(x0)\n",
    "    t_init= 0.0\n",
    "    for configs in config_list:\n",
    "        print(configs)\n",
    "        t_span, event, params = configs\n",
    "        sol = solve_ivp(\n",
    "            dynamics, \n",
    "            t_span=[t_init, t_span[1]], \n",
    "            y0=x0,    \n",
    "            args=(params,), \n",
    "            events=mass_limit)\n",
    "        x0 = sol.y[-1]\n",
    "        t_init = sol.t[-1]\n",
    "        print(t_init)\n",
    "    return sol  "
   ]
  },
  {
   "cell_type": "code",
   "execution_count": 93,
   "metadata": {},
   "outputs": [],
   "source": [
    "# ((t_start,tend), (vch properties, (phase_id, (phase_params)))\n",
    "config_list = [\n",
    "    ((0,10),None, ((thrust, Isp), (0,  (np.pi/2*0.9)))),\n",
    "    ((None,500), None,((thrust, Isp), (1,  (None)))),\n",
    "    ((None,1000), None,((thrust, Isp), (1,  (None)))),\n",
    "\n",
    "]"
   ]
  },
  {
   "cell_type": "code",
   "execution_count": 94,
   "metadata": {},
   "outputs": [
    {
     "ename": "TypeError",
     "evalue": "unhashable type: 'numpy.ndarray'",
     "output_type": "error",
     "traceback": [
      "\u001b[0;31m---------------------------------------------------------------------------\u001b[0m",
      "\u001b[0;31mTypeError\u001b[0m                                 Traceback (most recent call last)",
      "Cell \u001b[0;32mIn[94], line 1\u001b[0m\n\u001b[0;32m----> 1\u001b[0m sol \u001b[38;5;241m=\u001b[39m \u001b[43mproblem_rollout\u001b[49m\u001b[43m(\u001b[49m\u001b[43mx0\u001b[49m\u001b[43m,\u001b[49m\u001b[43m \u001b[49m\u001b[43mconfig_list\u001b[49m\u001b[43m)\u001b[49m\n",
      "\u001b[0;31mTypeError\u001b[0m: unhashable type: 'numpy.ndarray'"
     ]
    }
   ],
   "source": [
    "sol = problem_rollout(x0, config_list)"
   ]
  },
  {
   "cell_type": "code",
   "execution_count": null,
   "metadata": {},
   "outputs": [],
   "source": [
    "plot(\n",
    "    sol.t,[sol.y[0], sol.y[1]], y2 = [sol.y[2], sol.y[3]],\n",
    "    title=\"Time vs States\", \n",
    "    xlabel=\"Time\", \n",
    "    ylabel=(\"Pos\", \"Vel\"),\n",
    "    trace_names=(\"pos_x\", \"pos_y\", \"vel_x\", \"vel_y\")\n",
    "    )"
   ]
  },
  {
   "cell_type": "code",
   "execution_count": null,
   "metadata": {},
   "outputs": [],
   "source": [
    "plot(\n",
    "    sol.t,[sol.y[4]],\n",
    "    title=\"Time vs Mass\", \n",
    "    xlabel=\"Time\", \n",
    "    ylabel=(\"Mass\"),\n",
    "    )"
   ]
  },
  {
   "cell_type": "code",
   "execution_count": null,
   "metadata": {},
   "outputs": [],
   "source": [
    "mdot = thrust / STANDARD_GRAV / Isp\n",
    "\n",
    "t_max = 50000 / mdot"
   ]
  },
  {
   "cell_type": "code",
   "execution_count": null,
   "metadata": {},
   "outputs": [],
   "source": [
    "plot(\n",
    "    sol.t,[sol.y[0], sol.y[1]], y2 = [sol.y[2], sol.y[3]],\n",
    "    title=\"Time vs States\", \n",
    "    xlabel=\"Time\", \n",
    "    ylabel=(\"Pos\", \"Vel\"),\n",
    "    trace_names=(\"pos_x\", \"pos_y\", \"vel_x\", \"vel_y\")\n",
    "    )"
   ]
  },
  {
   "cell_type": "code",
   "execution_count": null,
   "metadata": {},
   "outputs": [],
   "source": [
    "plot( sol.t, [sol.y[4]], title=\"time vs Mass\", xlabel=\"Time\", ylabel=\"Mass\")"
   ]
  },
  {
   "cell_type": "code",
   "execution_count": null,
   "metadata": {},
   "outputs": [],
   "source": []
  },
  {
   "cell_type": "code",
   "execution_count": 95,
   "metadata": {},
   "outputs": [
    {
     "ename": "TypeError",
     "evalue": "unhashable type: 'numpy.ndarray'",
     "output_type": "error",
     "traceback": [
      "\u001b[0;31m---------------------------------------------------------------------------\u001b[0m",
      "\u001b[0;31mTypeError\u001b[0m                                 Traceback (most recent call last)",
      "Cell \u001b[0;32mIn[95], line 9\u001b[0m\n\u001b[1;32m      4\u001b[0m \u001b[38;5;129m@lru_cache\u001b[39m(maxsize\u001b[38;5;241m=\u001b[39m\u001b[38;5;28;01mNone\u001b[39;00m)\n\u001b[1;32m      5\u001b[0m \u001b[38;5;28;01mdef\u001b[39;00m \u001b[38;5;21mmy_func\u001b[39m(arr):\n\u001b[1;32m      6\u001b[0m     arr \u001b[38;5;241m=\u001b[39m \u001b[38;5;28mtuple\u001b[39m(arr)  \u001b[38;5;66;03m# Convert array to tuple\u001b[39;00m\n\u001b[0;32m----> 9\u001b[0m result \u001b[38;5;241m=\u001b[39m \u001b[43mmy_func\u001b[49m\u001b[43m(\u001b[49m\u001b[43mnp\u001b[49m\u001b[38;5;241;43m.\u001b[39;49m\u001b[43marray\u001b[49m\u001b[43m(\u001b[49m\u001b[43m[\u001b[49m\u001b[38;5;241;43m1\u001b[39;49m\u001b[43m,\u001b[49m\u001b[43m \u001b[49m\u001b[38;5;241;43m2\u001b[39;49m\u001b[43m,\u001b[49m\u001b[43m \u001b[49m\u001b[38;5;241;43m3\u001b[39;49m\u001b[43m]\u001b[49m\u001b[43m)\u001b[49m\u001b[43m)\u001b[49m \n",
      "\u001b[0;31mTypeError\u001b[0m: unhashable type: 'numpy.ndarray'"
     ]
    }
   ],
   "source": [
    "import numpy as np\n",
    "from functools import lru_cache\n",
    "\n",
    "@lru_cache(maxsize=None)\n",
    "def my_func(arr):\n",
    "    arr = tuple(arr)  # Convert array to tuple\n",
    "    \n",
    "\n",
    "result = my_func(np.array([1, 2, 3])) "
   ]
  },
  {
   "cell_type": "code",
   "execution_count": null,
   "metadata": {},
   "outputs": [],
   "source": [
    "multiply_by_two.cache_info()"
   ]
  },
  {
   "cell_type": "code",
   "execution_count": null,
   "metadata": {},
   "outputs": [],
   "source": [
    "expensive.count"
   ]
  },
  {
   "cell_type": "code",
   "execution_count": null,
   "metadata": {},
   "outputs": [],
   "source": []
  }
 ],
 "metadata": {
  "kernelspec": {
   "display_name": "space-traj-opt-JRbM3DHw-py3.10",
   "language": "python",
   "name": "python3"
  },
  "language_info": {
   "codemirror_mode": {
    "name": "ipython",
    "version": 3
   },
   "file_extension": ".py",
   "mimetype": "text/x-python",
   "name": "python",
   "nbconvert_exporter": "python",
   "pygments_lexer": "ipython3",
   "version": "3.10.12"
  }
 },
 "nbformat": 4,
 "nbformat_minor": 2
}
