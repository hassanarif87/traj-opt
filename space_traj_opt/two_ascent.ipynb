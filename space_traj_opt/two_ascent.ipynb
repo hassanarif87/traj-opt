{
 "cells": [
  {
   "cell_type": "code",
   "execution_count": null,
   "metadata": {},
   "outputs": [],
   "source": [
    "import numpy as np\n",
    "from  numpy import deg2rad as d2r\n",
    "from  numpy import array as arr\n",
    "\n",
    "from scipy.integrate import solve_ivp, OdeSolution\n",
    "from scipy.optimize import minimize, approx_fprime\n",
    "from functools import lru_cache\n",
    "from models import dynamics, CtrlMode, STANDARD_GRAV\n",
    "from transcription import MultiShootingTranscription\n",
    "from utils import unpack_sol_list\n",
    "from plotting import plot, visualize_jac2"
   ]
  },
  {
   "cell_type": "markdown",
   "metadata": {},
   "source": [
    "## Electron Rocket Parameters"
   ]
  },
  {
   "cell_type": "code",
   "execution_count": null,
   "metadata": {},
   "outputs": [],
   "source": [
    "n_engines_s1 = 9\n",
    "n_engines_s2 = 1\n",
    "isp_s1 = 311.0\n",
    "engine_thrust_s1 = n_engines_s1*24910.04  # N Average between sl and vac\n",
    "isp_s2 = 343.0\n",
    "engine_thrust_s2 = n_engines_s2* 25_000.0  # N\n",
    "s1_vch_params = (engine_thrust_s1, isp_s1)\n",
    "s2_vch_params = (engine_thrust_s2, isp_s2)\n",
    "\n",
    "fairing_mass = 50.0\n",
    "farinig_timing = 184.0 - 162.0 # sec\n",
    "payload = 250.0\n",
    "s1_dry_mass = 1076.47308279  \n",
    "s2_dry_mass = 257.90093739  \n",
    "\n",
    "s1_wet_mass = 10047.082106064723\n",
    "s2_wet_mass = 2602.454913676189\n",
    "total_mass = 12949.537019740912\n",
    "\n",
    "mdot_s1 = engine_thrust_s1 / STANDARD_GRAV / isp_s1\n",
    "mdot_s2 = engine_thrust_s2 / STANDARD_GRAV / isp_s2"
   ]
  },
  {
   "cell_type": "code",
   "execution_count": null,
   "metadata": {},
   "outputs": [],
   "source": [
    "NUM_X= 5\n",
    "NUM_U = 5\n",
    "NUM_PHASE = 4\n",
    "# %load_ext snakeviz"
   ]
  },
  {
   "cell_type": "markdown",
   "metadata": {},
   "source": [
    "## Initial Guesses"
   ]
  },
  {
   "cell_type": "code",
   "execution_count": null,
   "metadata": {},
   "outputs": [],
   "source": [
    "mu_earth = 3.986004418e14\n",
    "earth_r = 6_378_000.0 # m\n",
    "circ_orbit_alt = 200_000.0 \n",
    "v_circ = np.sqrt(mu_earth / (earth_r + circ_orbit_alt))\n",
    "# Guesses \n",
    "x0 = arr([\n",
    "    [0,0,0,0,total_mass], \n",
    "    [7.5,390,1.5,80,12200],\n",
    "    [30000,60000,2000,500,s2_wet_mass + payload + fairing_mass],\n",
    "    [45000,80000,2800,1000,s2_wet_mass + payload - farinig_timing * mdot_s2]\n",
    "])\n",
    "\n",
    "x_f = arr([200_000, circ_orbit_alt, v_circ, 0.0, s2_dry_mass + payload])\n",
    "\n",
    "## normalization vector \n",
    "u0_n_vec = arr([np.pi,0.1,np.pi/2,0.1,np.pi/2 ])\n",
    "x0_n_vec = arr([circ_orbit_alt, circ_orbit_alt, 5000, 1000, 13000]*NUM_X)\n",
    "\n",
    "t0_n_vec = arr([10,120,20,300])\n",
    "\n",
    "normalization_vec = np.concatenate([u0_n_vec, x0_n_vec, t0_n_vec])"
   ]
  },
  {
   "cell_type": "markdown",
   "metadata": {},
   "source": [
    "## Define a multiphase trajectory problem"
   ]
  },
  {
   "cell_type": "code",
   "execution_count": null,
   "metadata": {},
   "outputs": [],
   "source": [
    "problem = MultiShootingTranscription([\"phase0\", \"phase1\", \"phase2\", \"phase3\"], NUM_X)\n",
    "\n",
    "problem.set_dynamics_params(\"phase0\", s1_vch_params)\n",
    "problem.set_dynamics_params(\"phase1\", s1_vch_params)\n",
    "problem.set_dynamics_params(\"phase2\", s2_vch_params)\n",
    "problem.set_dynamics_params(\"phase3\", s2_vch_params)"
   ]
  },
  {
   "cell_type": "markdown",
   "metadata": {},
   "source": [
    "## Define state, control and time guesses for each phase "
   ]
  },
  {
   "cell_type": "code",
   "execution_count": null,
   "metadata": {},
   "outputs": [],
   "source": [
    "problem.set_phase_init_x(\"phase0\", x0 = x0[0], bounds= x0[0])\n",
    "problem.set_phase_control(\"phase0\", CtrlMode.ANGLE_STEER , u0 = d2r(89.5), bounds = [(d2r(85), d2r(89.8))])\n",
    "problem.set_phase_time(\"phase0\", t0 = 10, bounds = 10)\n",
    "\n",
    "problem.set_phase_init_x(\"phase1\", x0 = x0[1])\n",
    "problem.set_phase_control(\"phase1\", CtrlMode.ZERO_ALPHA , u0 = [])\n",
    "problem.set_phase_time(\"phase1\", t0 = 100, bounds=(60, 180))\n",
    "\n",
    "problem.set_phase_init_x(\"phase2\", x0 = x0[2])\n",
    "problem.set_phase_control(\"phase2\", CtrlMode.LTS , u0 = arr([-0.001,1]), bounds = [(-0.1,0.1), (-3,3)])\n",
    "problem.set_phase_time(\"phase2\", t0 = farinig_timing, bounds = farinig_timing)\n",
    "\n",
    "problem.set_phase_init_x(\"phase3\", x0 = x0[3])\n",
    "problem.set_phase_control(\"phase3\", CtrlMode.LTS , u0 = arr([-0.001,1]), bounds = [(-0.1,0.1), (-3,3)])\n",
    "problem.set_phase_time(\"phase3\", t0 = 320)\n",
    "\n",
    "problem.set_non_zero_defect((\"phase1\", \"phase2\"), arr([0,0,0,0,s1_dry_mass]))\n",
    "problem.set_non_zero_defect((\"phase2\", \"phase3\"), arr([0,0,0,0,fairing_mass]))\n",
    "\n",
    "problem.set_terminal_state(x_final = x_f, bounds = arr([None, circ_orbit_alt, v_circ, 0, None ]))"
   ]
  },
  {
   "cell_type": "markdown",
   "metadata": {},
   "source": [
    "## Build The problem\n",
    "Builds the decision vector and bounds "
   ]
  },
  {
   "cell_type": "code",
   "execution_count": null,
   "metadata": {},
   "outputs": [],
   "source": [
    "d0, d_bounds, full_params = problem.build()\n",
    "d0_norm, d_bounds_norm = problem.normalize_decision_vec(d0, d_bounds,normalization_vec)"
   ]
  },
  {
   "cell_type": "code",
   "execution_count": null,
   "metadata": {},
   "outputs": [],
   "source": [
    "# denormalize_decision_vec(d0_norm, normalization_vec)"
   ]
  },
  {
   "cell_type": "markdown",
   "metadata": {},
   "source": [
    "## Defining dynamic constraint function"
   ]
  },
  {
   "cell_type": "code",
   "execution_count": null,
   "metadata": {},
   "outputs": [],
   "source": [
    "def unpack_decision_var(decision_var, config, phase_id):\n",
    "    \"\"\"Converts the decision \n",
    "\n",
    "    Args:\n",
    "        decision_var : Optimzation decission vector\n",
    "        config : Config for this phase\n",
    "        phase_id : id for the phase\n",
    "\n",
    "    Returns:\n",
    "        tuple: control, state, terminal time, control_law\n",
    "\n",
    "    \"\"\"\n",
    "    control_law = config[0]\n",
    "    u = decision_var[:NUM_U][range(*config[1])]\n",
    "    x = decision_var[NUM_U:(NUM_PHASE+1)*NUM_X + NUM_U].reshape(NUM_PHASE+1, NUM_X)[phase_id]\n",
    "    t_terminal = decision_var[-NUM_PHASE:][phase_id] # Time is the last decision var here\n",
    "    return (u, x, t_terminal, control_law)\n",
    "\n",
    "\n",
    "@lru_cache(maxsize=128, typed=True) \n",
    "def traj_rollout(t_terminal:float, x0: np.array, params: tuple) -> OdeSolution:\n",
    "    \"\"\"Integrates a phase of the trajectory.\n",
    "    The trajectory is evaluated at a set time points using t_eval, this greatly improves convergance and stability of the gradients \n",
    "    lru_cache decerases the time requre to calculate the jac, since scipy uses forward diff the cached f(x) used instead of a re-compute\n",
    "    Args:\n",
    "        t_terminal : Terminal time of the phase\n",
    "        x0 : Initial state of the phase\n",
    "        params : Phase Parameter\n",
    "\n",
    "    Returns:\n",
    "        OdeSolution: The solution of the phase\n",
    "    \"\"\"\n",
    "    sol = solve_ivp(\n",
    "        dynamics, \n",
    "        t_span=[0.0, t_terminal], \n",
    "        t_eval= np.linspace(0.0, t_terminal), # This greatly improves convergance and stability of the jac\n",
    "        y0=x0,    \n",
    "        args=(params,)\n",
    "    )\n",
    "    return sol  \n",
    "\n",
    "def full_traj_rollout(d0, config_list):\n",
    "    sol_list = []\n",
    "    for  phase_id, config in enumerate(config_list):\n",
    "        u, x, t_terminal, control_law = unpack_decision_var(d0,config, phase_id=phase_id)\n",
    "        # make inputs hashable, neede for lru cache, the copy is cheaper than a second f(x) eval\n",
    "        u_ = tuple(u.tolist())\n",
    "        x_ =tuple(x.tolist())\n",
    "        t_ = float(t_terminal)\n",
    "        \n",
    "        vch_params = (config[3],(control_law, u_))\n",
    "        #if sol is not None:\n",
    "        #    x = sol.y[:,-1]\n",
    "        sol = traj_rollout(t_, x_, vch_params)\n",
    "        sol_list.append(sol)\n",
    "    return sol_list\n",
    "\n",
    "def dynamics_knot_constrant(d0_in, config_list): \n",
    "    d0 = problem.denormalize_decision_vec(d0_in, normalization_vec)\n",
    "    defect_vector_list = []\n",
    "    sol_list=  full_traj_rollout(d0, config_list)\n",
    "    for idx in range(1,NUM_PHASE):\n",
    "        _,_, knot_defect,_ = config_list[idx]\n",
    "        defect_sub_vector = sol_list[idx].y[:,0] - sol_list[idx-1].y[:,-1] + knot_defect\n",
    "        defect_sub_vector /= arr([100000, 100000, 8000, 1000, 1000])\n",
    "        defect_vector_list.append(defect_sub_vector)\n",
    "    # Terminal Defect \n",
    "    terminal_state = d0[NUM_U:(NUM_PHASE+1)*NUM_X + NUM_U].reshape(NUM_PHASE+1, NUM_X)[-1]\n",
    "    terminal_defect = terminal_state - sol_list[-1].y[:,-1]\n",
    "    terminal_defect /= arr([10000, 10000, 1000, 1000, 1000])\n",
    "    defect_vector_list.append(terminal_defect)\n",
    "    defect_vec = arr(defect_vector_list).flatten()\n",
    "    return defect_vec"
   ]
  },
  {
   "cell_type": "code",
   "execution_count": null,
   "metadata": {},
   "outputs": [],
   "source": [
    "sol_list = full_traj_rollout(d0, full_params)"
   ]
  },
  {
   "cell_type": "code",
   "execution_count": null,
   "metadata": {},
   "outputs": [],
   "source": [
    "constraints = [{'type': 'eq', 'fun': dynamics_knot_constrant, 'args':(full_params,) },]"
   ]
  },
  {
   "cell_type": "markdown",
   "metadata": {},
   "source": [
    "## Objective function\n",
    "Maximize stage 2 mass"
   ]
  },
  {
   "cell_type": "code",
   "execution_count": null,
   "metadata": {},
   "outputs": [],
   "source": [
    "def objective(decision_var: tuple, params: tuple) -> float:\n",
    "        \"\"\"Objective function for min prop\n",
    "\n",
    "        Args:\n",
    "            decision_var : Optimization problem decision vector\n",
    "            params : \n",
    "\n",
    "        Returns:\n",
    "            Cost to minimize\n",
    "        \"\"\"\n",
    "        x = decision_var[NUM_U:(NUM_PHASE+1)*NUM_X + NUM_U].reshape(NUM_PHASE+1, NUM_X)\n",
    "        terminal_state = x[-1]\n",
    "        terminal_mass= terminal_state[-1]\n",
    "        return -terminal_mass*terminal_mass*1000\n",
    "\n",
    "\n",
    "def jac_objective(decision_var: tuple, params: tuple):\n",
    "        jac = np.zeros_like(decision_var)\n",
    "        val = -decision_var[29] - decision_var[29]\n",
    "        jac[29]= val*1000\n",
    "        return jac"
   ]
  },
  {
   "cell_type": "markdown",
   "metadata": {},
   "source": [
    "## Scipy Minimize\n",
    "SLSQP has to be use here because it can handle bounds and equality constraints."
   ]
  },
  {
   "cell_type": "code",
   "execution_count": null,
   "metadata": {},
   "outputs": [],
   "source": [
    "# %%snakeviz\n",
    "\n",
    "result = minimize(\n",
    "    objective, \n",
    "    d0_norm, \n",
    "    jac= jac_objective,\n",
    "    method='SLSQP', \n",
    "    bounds=d_bounds_norm, \n",
    "    constraints=constraints,\n",
    "    options = {\"maxiter\": 500, \"disp\": True},\n",
    "    args=(full_params,)\n",
    ")"
   ]
  },
  {
   "cell_type": "code",
   "execution_count": null,
   "metadata": {},
   "outputs": [],
   "source": [
    "constraint_jac = approx_fprime(\n",
    "    result.x, \n",
    "    dynamics_knot_constrant, \n",
    "    np.float64(1.4901161193847656e-08), full_params)"
   ]
  },
  {
   "cell_type": "code",
   "execution_count": null,
   "metadata": {},
   "outputs": [],
   "source": [
    "visualize_jac2(result.x, constraint_jac)"
   ]
  },
  {
   "cell_type": "code",
   "execution_count": null,
   "metadata": {},
   "outputs": [],
   "source": [
    "x_opt = problem.denormalize_decision_vec(result.x, normalization_vec)\n",
    "\n",
    "sol_list = full_traj_rollout(x_opt, full_params)"
   ]
  },
  {
   "cell_type": "code",
   "execution_count": null,
   "metadata": {},
   "outputs": [],
   "source": [
    "full_params"
   ]
  },
  {
   "cell_type": "code",
   "execution_count": null,
   "metadata": {},
   "outputs": [],
   "source": [
    "plot(\n",
    "    *unpack_sol_list(sol_list,0),\n",
    "    title=\"Time vs States\", \n",
    "    xlabel=\"Time\", \n",
    "    ylabel=\"Pos x\",\n",
    "    trace_names=(\"phase0\", \"phase1\", \"phase2\", \"phase3\")\n",
    "    )"
   ]
  },
  {
   "cell_type": "code",
   "execution_count": null,
   "metadata": {},
   "outputs": [],
   "source": [
    "plot(\n",
    "    *unpack_sol_list(sol_list,1),\n",
    "    title=\"Time vs States\", \n",
    "    xlabel=\"Time\", \n",
    "    ylabel=\"Pos y\",\n",
    "    trace_names=(\"phase0\", \"phase1\", \"phase2\", \"phase3\")\n",
    "    )\n"
   ]
  },
  {
   "cell_type": "code",
   "execution_count": null,
   "metadata": {},
   "outputs": [],
   "source": [
    "plot(\n",
    "    *unpack_sol_list(sol_list,2),\n",
    "    title=\"Time vs States\", \n",
    "    xlabel=\"Time\", \n",
    "    ylabel=\"Vel\",\n",
    "    trace_names=(\"phase0\", \"phase1\", \"phase2\", \"phase3\")\n",
    "    )"
   ]
  },
  {
   "cell_type": "code",
   "execution_count": null,
   "metadata": {},
   "outputs": [],
   "source": [
    "plot(\n",
    "    *unpack_sol_list(sol_list,3),\n",
    "    title=\"Time vs States\", \n",
    "    xlabel=\"Time\", \n",
    "    ylabel=\"Vel\",\n",
    "    trace_names=(\"phase0\", \"phase1\", \"phase2\", \"phase3\")\n",
    "    )"
   ]
  },
  {
   "cell_type": "code",
   "execution_count": null,
   "metadata": {},
   "outputs": [],
   "source": [
    "plot(\n",
    "    *unpack_sol_list(sol_list,4),\n",
    "    title=\"Time vs States\", \n",
    "    xlabel=\"Time\", \n",
    "    ylabel=\"Mass\",\n",
    "    trace_names=(\"phase0\", \"phase1\", \"phase2\", \"phase3\")\n",
    "    )"
   ]
  },
  {
   "cell_type": "code",
   "execution_count": null,
   "metadata": {},
   "outputs": [],
   "source": [
    "times, state= unpack_sol_list(sol_list,4)"
   ]
  },
  {
   "cell_type": "code",
   "execution_count": null,
   "metadata": {},
   "outputs": [],
   "source": [
    "unpack_decision_var(x_opt, full_params[3],3 )[0]"
   ]
  },
  {
   "cell_type": "code",
   "execution_count": null,
   "metadata": {},
   "outputs": [],
   "source": [
    "from models import lts_control"
   ]
  },
  {
   "cell_type": "code",
   "execution_count": null,
   "metadata": {},
   "outputs": [],
   "source": [
    "lts_2 =lts_control(times[2] - times[2][0], 0, unpack_decision_var(x_opt, full_params[2],2 )[0])\n",
    "lts_3 =lts_control(times[3]- times[3][0], 0, unpack_decision_var(x_opt, full_params[3],3 )[0])\n"
   ]
  },
  {
   "cell_type": "code",
   "execution_count": null,
   "metadata": {},
   "outputs": [],
   "source": [
    "plot(\n",
    "    [times[2], times[3]],\n",
    "    [lts_2, lts_3],\n",
    "    title=\"Time vs States\", \n",
    "    xlabel=\"Time\", \n",
    "    ylabel=\"Pitch\",\n",
    "    trace_names=(\"phase2\", \"phase3\")\n",
    "    )"
   ]
  },
  {
   "cell_type": "code",
   "execution_count": null,
   "metadata": {},
   "outputs": [],
   "source": []
  }
 ],
 "metadata": {
  "kernelspec": {
   "display_name": "space-traj-opt-JRbM3DHw-py3.10",
   "language": "python",
   "name": "python3"
  },
  "language_info": {
   "codemirror_mode": {
    "name": "ipython",
    "version": 3
   },
   "file_extension": ".py",
   "mimetype": "text/x-python",
   "name": "python",
   "nbconvert_exporter": "python",
   "pygments_lexer": "ipython3",
   "version": "3.10.12"
  }
 },
 "nbformat": 4,
 "nbformat_minor": 4
}
