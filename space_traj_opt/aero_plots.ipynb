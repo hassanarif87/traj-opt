{
 "cells": [
  {
   "cell_type": "code",
   "execution_count": null,
   "metadata": {},
   "outputs": [],
   "source": [
    "import numpy as np\n",
    "from models import get_atm, get_drag_coeff\n",
    "from plotting import plot"
   ]
  },
  {
   "cell_type": "code",
   "execution_count": null,
   "metadata": {},
   "outputs": [],
   "source": [
    "mach = np.linspace(0.,5., 100)"
   ]
  },
  {
   "cell_type": "code",
   "execution_count": null,
   "metadata": {},
   "outputs": [],
   "source": [
    "get_drag_coeff_vec = np.vectorize(get_drag_coeff)\n"
   ]
  },
  {
   "cell_type": "code",
   "execution_count": null,
   "metadata": {},
   "outputs": [],
   "source": [
    "cd = get_drag_coeff_vec(mach)"
   ]
  },
  {
   "cell_type": "code",
   "execution_count": null,
   "metadata": {},
   "outputs": [],
   "source": [
    "plot(\n",
    "    mach,\n",
    "    cd,\n",
    "    title=\"mach vs cd\", \n",
    "    xlabel=\"mach\", \n",
    "    ylabel=\"cd\",\n",
    "    )"
   ]
  },
  {
   "cell_type": "code",
   "execution_count": null,
   "metadata": {},
   "outputs": [],
   "source": [
    "v_mag = mach * 330\n",
    "\n",
    "altitude = np.linspace(0, 60000, 100)\n",
    "air_den= 1.225 * np.exp(-altitude / 8.44e3)\n",
    "\n",
    "drag = 0.5 *cd * air_den* v_mag**2"
   ]
  },
  {
   "cell_type": "code",
   "execution_count": null,
   "metadata": {},
   "outputs": [],
   "source": [
    "plot(\n",
    "    v_mag,\n",
    "    drag,\n",
    "    title=\"vel vs drag\", \n",
    "    xlabel=\"vel\", \n",
    "    ylabel=\"drag\",\n",
    "    )"
   ]
  },
  {
   "cell_type": "code",
   "execution_count": null,
   "metadata": {},
   "outputs": [],
   "source": [
    "plot(\n",
    "    altitude,\n",
    "    air_den,\n",
    "    title=\"altitude vs air_den\", \n",
    "    xlabel=\"altitude\", \n",
    "    ylabel=\"air_den\",\n",
    "    )"
   ]
  }
 ],
 "metadata": {
  "kernelspec": {
   "display_name": "space-traj-opt-JRbM3DHw-py3.10",
   "language": "python",
   "name": "python3"
  },
  "language_info": {
   "codemirror_mode": {
    "name": "ipython",
    "version": 3
   },
   "file_extension": ".py",
   "mimetype": "text/x-python",
   "name": "python",
   "nbconvert_exporter": "python",
   "pygments_lexer": "ipython3",
   "version": "3.10.12"
  }
 },
 "nbformat": 4,
 "nbformat_minor": 2
}
