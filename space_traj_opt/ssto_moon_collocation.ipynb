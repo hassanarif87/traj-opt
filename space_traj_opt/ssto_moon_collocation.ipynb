{
 "cells": [
  {
   "cell_type": "code",
   "execution_count": 2,
   "metadata": {},
   "outputs": [],
   "source": [
    "import numpy as np\n",
    "import numba\n",
    "import matplotlib.pyplot as plt\n",
    "from scipy.optimize import minimize\n",
    "from plotting import plot"
   ]
  },
  {
   "cell_type": "code",
   "execution_count": 3,
   "metadata": {},
   "outputs": [],
   "source": [
    "thrust = 210000.0\n",
    "g0 = 1.61544\n",
    "STANDARD_GRAV = 9.81\n",
    "Isp = 265.2 \n",
    "\n",
    "params = (thrust, g0, Isp)\n",
    "\n",
    "x0 = np.array([0,0,0,0,50000])"
   ]
  },
  {
   "cell_type": "code",
   "execution_count": 4,
   "metadata": {},
   "outputs": [],
   "source": [
    "@numba.njit\n",
    "def dynamics(x, u, params):\n",
    "\n",
    "    thrust = params[0]\n",
    "    g0 = params[1]\n",
    "    Isp = params[2]\n",
    "    \n",
    "    cos_theta  = np.cos(u)\n",
    "    sin_theta  = np.sin(u)\n",
    "    dx = np.zeros_like(x)\n",
    "    dx[:,0] = x[:,3]\n",
    "    dx[:,1] = x[:,4]\n",
    "    dx[:,2] =  (thrust * cos_theta) / x[:,4] \n",
    "    dx[:,3] =  (thrust * sin_theta)  / x[:,4] - g0\n",
    "    dx[:,4] =  -thrust / STANDARD_GRAV / Isp\n",
    "    return dx\n",
    "\n",
    "@numba.njit\n",
    "def objective(N, dt):\n",
    "    return N*dt\n",
    "\n",
    "# Define the dynamics defects\n",
    "@numba.njit\n",
    "def state_defects(decision_variables, args):\n",
    "    N = args[0] \n",
    "    states_dim = args[1] \n",
    "    params = args[2] \n",
    "    # Index [0 N )in the decision_variables vector contains the control inputs \n",
    "    u = decision_variables[:N]\n",
    "    # Index [N -1] in the decision_variables vector contains the state  \n",
    "    x = decision_variables[N:].reshape((N+1, states_dim))\n",
    "    dt = decision_variables[N:-1] # Time is the last decision var here\n",
    "    # Calculate the dynamics\n",
    "    x_dot = dynamics(x, u)\n",
    "    # Calculate the approximation of integral using trapezoidal quadrature\n",
    "    integral = ((x_dot[:-1] + x_dot[1:])) / 2 * dt\n",
    "    # Calculate the state defects\n",
    "    defects = x[1:] - x[:-1]  - integral\n",
    "\n",
    "    return defects.transpose().flatten()"
   ]
  },
  {
   "cell_type": "code",
   "execution_count": 5,
   "metadata": {},
   "outputs": [],
   "source": [
    "# Define the initial and final states \n",
    "x0 = np.array([0,0,0,0,50000])\n",
    "terminal_x = [None, 1.8500e+05, 1.6270e+03, 0, None]\n",
    "_, xf_y, xf_vx, xf_vy, _ = terminal_x\n",
    "\n",
    "states_dim = 5\n",
    "N = 50 # Number of collocation points, \n",
    "\n",
    "#bounds of pitch angle\n",
    "u_b = np.pi /2 \n",
    "l_b = -np.pi /2 "
   ]
  },
  {
   "cell_type": "code",
   "execution_count": 6,
   "metadata": {},
   "outputs": [],
   "source": [
    "mdot = thrust / STANDARD_GRAV / Isp\n",
    "t_max = 50000 / mdot\n",
    "dt_max = t_max/ N"
   ]
  },
  {
   "cell_type": "code",
   "execution_count": 7,
   "metadata": {},
   "outputs": [],
   "source": [
    "# Initial guess for control inputs\n",
    "u_init = np.linspace(1.5, 0.76, N) # Decision variable\n",
    "t_init  = np.linspace(0, t_max, N+1) \n",
    "dt_init = t_init[1] - t_init[0]  # time step\n",
    "params =(N,states_dim)\n",
    "\n",
    "# Initial guess for states\n",
    "x_init = np.zeros((N+1, states_dim))\n",
    "x_init[:, 0] = np.linspace(x0[0], 215e3, N+1) \n",
    "x_init[:, 1] = np.linspace(0, xf_y, N+1)\n",
    "x_init[:, 2] = np.linspace(0, xf_vx, N+1)\n",
    "x_init[:, 3] = np.linspace(0, xf_vy, N+1)\n",
    "x_init[:, 4] = np.linspace(50000, 0.1 *  50000, N+1)\n",
    "\n",
    "# Concatenate control inputs and states into a single decision variable\n",
    "initial_guess = np.concatenate([u_init, x_init.flatten(), [12]])\n"
   ]
  },
  {
   "cell_type": "code",
   "execution_count": null,
   "metadata": {},
   "outputs": [],
   "source": []
  },
  {
   "cell_type": "code",
   "execution_count": 14,
   "metadata": {},
   "outputs": [],
   "source": [
    "## Plot initial Guesses \n",
    "\n",
    "# plot( t_init, [x_init[:, 0], x_init[:, 1]])\n",
    "# plot( t_init[:-1], u_init)"
   ]
  },
  {
   "cell_type": "code",
   "execution_count": 10,
   "metadata": {},
   "outputs": [],
   "source": [
    "\n",
    "# Define the optimization problem\n",
    "def problem(decision_variables, args):\n",
    "    N = args[0] \n",
    "    dt = decision_variables[-1]\n",
    "\n",
    "    obj_value = objective(N, dt)\n",
    "    \n",
    "    return obj_value\n",
    "\n",
    "# Define the bounds for the decision variables\n",
    "bounds = [(l_b, l_b)] * N # this case it is the control parameter for the trajectory, the pitch command\n",
    "num_state_bounds = states_dim*(N+1)\n",
    "\n",
    "state_bounds = [(0, None)] * num_state_bounds\n",
    "\n",
    "# for i in range(0,N+1):\n",
    "#     state_bounds[states_dim*i] = (0,None)\n",
    "\n",
    "xf_y, xf_vx, xf_vy\n",
    "bounds = bounds + state_bounds    \n",
    "#Enforcing Bound constraint on initial and final states\n",
    "bounds[N]    = (0.0,0.0) # x \n",
    "bounds[N+1]  = (0.0,0.0) # y\n",
    "bounds[N+2]  = (0.0, 0.0) # v_x \n",
    "bounds[N+3] = (0.0, 0.0) # v_y \n",
    "bounds[N+4] = (50000, 50000) # mass\n",
    "\n",
    "# Final Bounds\n",
    "bounds[N+ num_state_bounds - states_dim + 0] = (0.0,None) # x \n",
    "bounds[N+ num_state_bounds - states_dim + 1] = (xf_y,xf_y) # y\n",
    "bounds[N+ num_state_bounds - states_dim + 2] = (xf_vx, xf_vx) # v_x \n",
    "bounds[N+ num_state_bounds - states_dim + 3] = (xf_vy, xf_vy) # v_y \n",
    "bounds[N+ num_state_bounds - states_dim + 4] = (0, 30000) # mass\n",
    "bounds = bounds + [(5, 12.3)] # Adding time bound \n",
    "arguments = (params,)\n",
    "# Define the constraints\n",
    "constraints = [{'type': 'eq', 'fun': state_defects, 'args':arguments },]\n"
   ]
  },
  {
   "cell_type": "code",
   "execution_count": 11,
   "metadata": {},
   "outputs": [
    {
     "ename": "TypingError",
     "evalue": "Failed in nopython mode pipeline (step: nopython frontend)\nNo implementation of function Function(<built-in function mul>) found for signature:\n \n >>> mul(UniTuple(int64 x 2), float64)\n \nThere are 14 candidate implementations:\n  - Of which 12 did not match due to:\n  Overload of function 'mul': File: <numerous>: Line N/A.\n    With argument(s): '(UniTuple(int64 x 2), float64)':\n   No match.\n  - Of which 2 did not match due to:\n  Operator Overload in function 'mul': File: unknown: Line unknown.\n    With argument(s): '(UniTuple(int64 x 2), float64)':\n   No match for registered cases:\n    * (int64, int64) -> int64\n    * (int64, uint64) -> int64\n    * (uint64, int64) -> int64\n    * (uint64, uint64) -> uint64\n    * (float32, float32) -> float32\n    * (float64, float64) -> float64\n    * (complex64, complex64) -> complex64\n    * (complex128, complex128) -> complex128\n\nDuring: typing of intrinsic-call at /tmp/ipykernel_3989/3658962887.py (20)\n\nFile \"../../../../tmp/ipykernel_3989/3658962887.py\", line 20:\n<source missing, REPL/exec in use?>\n",
     "output_type": "error",
     "traceback": [
      "\u001b[0;31m---------------------------------------------------------------------------\u001b[0m",
      "\u001b[0;31mTypingError\u001b[0m                               Traceback (most recent call last)",
      "Cell \u001b[0;32mIn[11], line 1\u001b[0m\n\u001b[0;32m----> 1\u001b[0m \u001b[43mproblem\u001b[49m\u001b[43m(\u001b[49m\u001b[43minitial_guess\u001b[49m\u001b[43m,\u001b[49m\u001b[43m \u001b[49m\u001b[43marguments\u001b[49m\u001b[43m)\u001b[49m\n",
      "Cell \u001b[0;32mIn[10], line 6\u001b[0m, in \u001b[0;36mproblem\u001b[0;34m(decision_variables, args)\u001b[0m\n\u001b[1;32m      3\u001b[0m N \u001b[38;5;241m=\u001b[39m args[\u001b[38;5;241m0\u001b[39m] \n\u001b[1;32m      4\u001b[0m dt \u001b[38;5;241m=\u001b[39m decision_variables[\u001b[38;5;241m-\u001b[39m\u001b[38;5;241m1\u001b[39m]\n\u001b[0;32m----> 6\u001b[0m obj_value \u001b[38;5;241m=\u001b[39m \u001b[43mobjective\u001b[49m\u001b[43m(\u001b[49m\u001b[43mN\u001b[49m\u001b[43m,\u001b[49m\u001b[43m \u001b[49m\u001b[43mdt\u001b[49m\u001b[43m)\u001b[49m\n\u001b[1;32m      8\u001b[0m \u001b[38;5;28;01mreturn\u001b[39;00m obj_value\n",
      "File \u001b[0;32m~/.cache/pypoetry/virtualenvs/space-traj-opt-JRbM3DHw-py3.10/lib/python3.10/site-packages/numba/core/dispatcher.py:423\u001b[0m, in \u001b[0;36m_DispatcherBase._compile_for_args\u001b[0;34m(self, *args, **kws)\u001b[0m\n\u001b[1;32m    419\u001b[0m         msg \u001b[38;5;241m=\u001b[39m (\u001b[38;5;124mf\u001b[39m\u001b[38;5;124m\"\u001b[39m\u001b[38;5;132;01m{\u001b[39;00m\u001b[38;5;28mstr\u001b[39m(e)\u001b[38;5;241m.\u001b[39mrstrip()\u001b[38;5;132;01m}\u001b[39;00m\u001b[38;5;124m \u001b[39m\u001b[38;5;130;01m\\n\u001b[39;00m\u001b[38;5;130;01m\\n\u001b[39;00m\u001b[38;5;124mThis error may have been caused \u001b[39m\u001b[38;5;124m\"\u001b[39m\n\u001b[1;32m    420\u001b[0m                \u001b[38;5;124mf\u001b[39m\u001b[38;5;124m\"\u001b[39m\u001b[38;5;124mby the following argument(s):\u001b[39m\u001b[38;5;130;01m\\n\u001b[39;00m\u001b[38;5;132;01m{\u001b[39;00margs_str\u001b[38;5;132;01m}\u001b[39;00m\u001b[38;5;130;01m\\n\u001b[39;00m\u001b[38;5;124m\"\u001b[39m)\n\u001b[1;32m    421\u001b[0m         e\u001b[38;5;241m.\u001b[39mpatch_message(msg)\n\u001b[0;32m--> 423\u001b[0m     \u001b[43merror_rewrite\u001b[49m\u001b[43m(\u001b[49m\u001b[43me\u001b[49m\u001b[43m,\u001b[49m\u001b[43m \u001b[49m\u001b[38;5;124;43m'\u001b[39;49m\u001b[38;5;124;43mtyping\u001b[39;49m\u001b[38;5;124;43m'\u001b[39;49m\u001b[43m)\u001b[49m\n\u001b[1;32m    424\u001b[0m \u001b[38;5;28;01mexcept\u001b[39;00m errors\u001b[38;5;241m.\u001b[39mUnsupportedError \u001b[38;5;28;01mas\u001b[39;00m e:\n\u001b[1;32m    425\u001b[0m     \u001b[38;5;66;03m# Something unsupported is present in the user code, add help info\u001b[39;00m\n\u001b[1;32m    426\u001b[0m     error_rewrite(e, \u001b[38;5;124m'\u001b[39m\u001b[38;5;124munsupported_error\u001b[39m\u001b[38;5;124m'\u001b[39m)\n",
      "File \u001b[0;32m~/.cache/pypoetry/virtualenvs/space-traj-opt-JRbM3DHw-py3.10/lib/python3.10/site-packages/numba/core/dispatcher.py:364\u001b[0m, in \u001b[0;36m_DispatcherBase._compile_for_args.<locals>.error_rewrite\u001b[0;34m(e, issue_type)\u001b[0m\n\u001b[1;32m    362\u001b[0m     \u001b[38;5;28;01mraise\u001b[39;00m e\n\u001b[1;32m    363\u001b[0m \u001b[38;5;28;01melse\u001b[39;00m:\n\u001b[0;32m--> 364\u001b[0m     \u001b[38;5;28;01mraise\u001b[39;00m e\u001b[38;5;241m.\u001b[39mwith_traceback(\u001b[38;5;28;01mNone\u001b[39;00m)\n",
      "\u001b[0;31mTypingError\u001b[0m: Failed in nopython mode pipeline (step: nopython frontend)\nNo implementation of function Function(<built-in function mul>) found for signature:\n \n >>> mul(UniTuple(int64 x 2), float64)\n \nThere are 14 candidate implementations:\n  - Of which 12 did not match due to:\n  Overload of function 'mul': File: <numerous>: Line N/A.\n    With argument(s): '(UniTuple(int64 x 2), float64)':\n   No match.\n  - Of which 2 did not match due to:\n  Operator Overload in function 'mul': File: unknown: Line unknown.\n    With argument(s): '(UniTuple(int64 x 2), float64)':\n   No match for registered cases:\n    * (int64, int64) -> int64\n    * (int64, uint64) -> int64\n    * (uint64, int64) -> int64\n    * (uint64, uint64) -> uint64\n    * (float32, float32) -> float32\n    * (float64, float64) -> float64\n    * (complex64, complex64) -> complex64\n    * (complex128, complex128) -> complex128\n\nDuring: typing of intrinsic-call at /tmp/ipykernel_3989/3658962887.py (20)\n\nFile \"../../../../tmp/ipykernel_3989/3658962887.py\", line 20:\n<source missing, REPL/exec in use?>\n"
     ]
    }
   ],
   "source": [
    "problem(initial_guess, arguments)"
   ]
  },
  {
   "cell_type": "code",
   "execution_count": null,
   "metadata": {},
   "outputs": [],
   "source": [
    "# Solve the optimization problem\n",
    "\n",
    "result = minimize(problem, initial_guess, method='SLSQP', bounds=bounds, args=arguments, constraints=constraints)"
   ]
  },
  {
   "cell_type": "code",
   "execution_count": null,
   "metadata": {},
   "outputs": [],
   "source": [
    "# Extract the optimal control inputs and states\n",
    "u_opt = result.x[:N]\n",
    "\n",
    "x_opt = result.x[N:].reshape((N+1, states_dim))"
   ]
  }
 ],
 "metadata": {
  "kernelspec": {
   "display_name": "space-traj-opt-JRbM3DHw-py3.10",
   "language": "python",
   "name": "python3"
  },
  "language_info": {
   "codemirror_mode": {
    "name": "ipython",
    "version": 3
   },
   "file_extension": ".py",
   "mimetype": "text/x-python",
   "name": "python",
   "nbconvert_exporter": "python",
   "pygments_lexer": "ipython3",
   "version": "3.10.12"
  }
 },
 "nbformat": 4,
 "nbformat_minor": 2
}
