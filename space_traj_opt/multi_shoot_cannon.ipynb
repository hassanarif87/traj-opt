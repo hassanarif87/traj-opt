{
 "cells": [
  {
   "cell_type": "code",
   "execution_count": null,
   "metadata": {},
   "outputs": [],
   "source": [
    "import numpy as np\n",
    "import numba\n",
    "from scipy.optimize import minimize, OptimizeResult\n",
    "from scipy.integrate import solve_ivp\n",
    "from plotting import plot\n",
    "from functools import lru_cache"
   ]
  },
  {
   "cell_type": "code",
   "execution_count": null,
   "metadata": {},
   "outputs": [],
   "source": [
    "STANDARD_GRAV = 9.80665\n",
    "CdA = 0.3 * 0.01\n",
    "rho = 1.25\n",
    "g0 = STANDARD_GRAV\n",
    "#a0 = -0.001\n",
    "#b0 = 3.0\n",
    "\n",
    "params_ball = (rho, CdA)\n",
    "\n",
    "x0 = np.array([0,0,10,10])"
   ]
  },
  {
   "cell_type": "code",
   "execution_count": null,
   "metadata": {},
   "outputs": [],
   "source": [
    "@numba.njit\n",
    "def dynamics(t, x, params):\n",
    "    rho, CdA = params\n",
    "    dx = np.zeros_like(x)\n",
    "    v_sq = x[2]**2 + x[3]**2\n",
    "    drag = 0.5 * rho * CdA * v_sq\n",
    "    dx[0] = x[2]\n",
    "    dx[1] = x[3]\n",
    "    dx[2] = - drag * x[2] / np.sqrt(v_sq)\n",
    "    dx[3] =  - drag * x[3] / np.sqrt(v_sq) - g0\n",
    "    return dx"
   ]
  },
  {
   "cell_type": "code",
   "execution_count": null,
   "metadata": {},
   "outputs": [],
   "source": [
    "decision_init_guess = (\n",
    "    0,0 ,float(np.deg2rad(60)), 100, 10,\n",
    "    500,300 ,float(np.deg2rad(0)), 50, 10\n",
    "    )"
   ]
  },
  {
   "cell_type": "code",
   "execution_count": null,
   "metadata": {},
   "outputs": [],
   "source": [
    "@lru_cache(maxsize=128, typed=True)\n",
    "def traj_rollout(decision_var: tuple, params: tuple) -> OptimizeResult:\n",
    "\n",
    "    pos_x, pos_y, pitch, vel, t_terminal = decision_var\n",
    "    v_x = vel* np.cos(pitch)\n",
    "    v_y = vel* np.sin(pitch)\n",
    "    x0 = np.array([pos_x, pos_y, v_x, v_y])\n",
    "    sol = solve_ivp(\n",
    "        dynamics, \n",
    "        t_span=[0.0, t_terminal], \n",
    "        y0=x0,    \n",
    "        args=(params,)\n",
    "    )\n",
    "    return sol  "
   ]
  },
  {
   "cell_type": "code",
   "execution_count": null,
   "metadata": {},
   "outputs": [],
   "source": [
    "def objective(decision_var: tuple, params: tuple):\n",
    "        pos_x, pos_y, pitch, vel, t_terminal, pos2_x, pos2_y, pitch2, vel2, t_terminal2 = decision_var\n",
    "        cost =  vel **2\n",
    "        return cost\n",
    "\n",
    "def jac_objective(decision_var: tuple, params: tuple):\n",
    "        pos_x, pos_y, pitch, vel, t_terminal, pos2_x, pos2_y, pitch2, vel2, t_terminal2 = decision_var\n",
    "        print(\"jac\", vel**2)\n",
    "        return 2*vel"
   ]
  },
  {
   "cell_type": "code",
   "execution_count": null,
   "metadata": {},
   "outputs": [],
   "source": [
    "def dynamics_knot_constrant(decision_var: tuple, params: tuple):\n",
    "        pos_x, pos_y, pitch, vel, t_terminal, pos2_x, pos2_y, pitch2, vel2, t_terminal2 = decision_var\n",
    "        # Segment 1\n",
    "        sol1 = traj_rollout((pos_x, pos_y, pitch, vel, t_terminal), params)\n",
    "        # Segment 2\n",
    "        sol2 = traj_rollout((pos2_x, pos2_y, pitch2, vel2, t_terminal2), params)\n",
    "\n",
    "        defects =  sol2.y[:,0] - sol1.y[:,-1]\n",
    "        terminal_defect =  np.array([1000, 0]) - sol2.y[0:2,-1]\n",
    "        return np.concatenate([defects, terminal_defect])"
   ]
  },
  {
   "cell_type": "code",
   "execution_count": null,
   "metadata": {},
   "outputs": [],
   "source": [
    "bounds = [\n",
    "    (0.,0.), # segment 1 x0\n",
    "    (0.,0.), # segment 1 y0\n",
    "    (0., np.deg2rad(60)), # initial pitch bound \n",
    "    (10.,1000.), # initial speed bound \n",
    "    (0., 30.), # terminal time bound \n",
    "    (0.,np.inf), # x cant be smaller than first phase start\n",
    "    (0.,np.inf), # y cant be less than zero\n",
    "    (0., 0.), # initial pitch bound, segment boundry at 0 pitch. i.e max height\n",
    "    (0.,300.), # initial speed bound, segment 2 \n",
    "    (0., 30.) # terminal time bound, segment 2 \n",
    "]\n",
    "\n",
    "constraints = [{'type': 'eq', 'fun': dynamics_knot_constrant, 'args':(params_ball,) },]\n"
   ]
  },
  {
   "cell_type": "code",
   "execution_count": null,
   "metadata": {},
   "outputs": [],
   "source": [
    "result = minimize(\n",
    "    objective, \n",
    "    decision_init_guess, \n",
    "    # jac= jac_objective,\n",
    "    method='SLSQP', \n",
    "    bounds=bounds, \n",
    "    constraints=constraints,\n",
    "    args=(params_ball,)\n",
    ")\n",
    "result"
   ]
  },
  {
   "cell_type": "code",
   "execution_count": null,
   "metadata": {},
   "outputs": [],
   "source": [
    "pos_x, pos_y, pitch, vel, t_terminal, pos2_x, pos2_y, pitch2, vel2, t_terminal2 = result.x\n",
    "# Segment 1\n",
    "sol1 = traj_rollout((pos_x, pos_y, pitch, vel, t_terminal), params_ball)\n",
    "# Segment 2\n",
    "sol2 = traj_rollout((pos2_x, pos2_y, pitch2, vel2, t_terminal2), params_ball)\n"
   ]
  },
  {
   "cell_type": "code",
   "execution_count": null,
   "metadata": {},
   "outputs": [],
   "source": [
    "plot(\n",
    "    sol1.t,[sol1.y[0], sol1.y[1]], \n",
    "    y2 = [sol1.y[2], sol1.y[3]],\n",
    "    title=\"Time vs States, Segment 2\", \n",
    "    xlabel=\"Time\", \n",
    "    ylabel=(\"Pos\", \"Vel\"),\n",
    "    trace_names=(\"pos_x\", \"pos_y\", \"vel_x\", \"vel_y\")\n",
    "    )"
   ]
  },
  {
   "cell_type": "code",
   "execution_count": null,
   "metadata": {},
   "outputs": [],
   "source": [
    "plot(\n",
    "    sol2.t + sol1.t[-1],[sol2.y[0], sol2.y[1]], \n",
    "    y2 = [sol2.y[2], sol2.y[3]],\n",
    "    title=\"Time vs States Segment 1\", \n",
    "    xlabel=\"Time\", \n",
    "    ylabel=(\"Pos\", \"Vel\"),\n",
    "    trace_names=(\"pos_x\", \"pos_y\", \"vel_x\", \"vel_y\")\n",
    "    )"
   ]
  }
 ],
 "metadata": {
  "kernelspec": {
   "display_name": "space-traj-opt-JRbM3DHw-py3.10",
   "language": "python",
   "name": "python3"
  },
  "language_info": {
   "codemirror_mode": {
    "name": "ipython",
    "version": 3
   },
   "file_extension": ".py",
   "mimetype": "text/x-python",
   "name": "python",
   "nbconvert_exporter": "python",
   "pygments_lexer": "ipython3",
   "version": "3.10.12"
  }
 },
 "nbformat": 4,
 "nbformat_minor": 2
}
