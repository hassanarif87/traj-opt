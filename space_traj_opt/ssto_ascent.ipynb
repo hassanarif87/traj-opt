{
 "cells": [
  {
   "cell_type": "code",
   "execution_count": 3,
   "metadata": {},
   "outputs": [],
   "source": [
    "import numpy as np\n",
    "import numba\n",
    "import matplotlib.pyplot as plt\n",
    "from scipy.interpolate import CubicSpline\n",
    "import pandas as pd \n",
    "from scipy.optimize import minimize\n",
    "from plotting import plot"
   ]
  },
  {
   "cell_type": "code",
   "execution_count": 4,
   "metadata": {},
   "outputs": [],
   "source": [
    "Cd = 0.8\n",
    "S_ref = 10\n",
    "thrust = 2100000.0\n",
    "g0 = 9.80665\n",
    "Isp = 350\n",
    "params = [Cd,S_ref, thrust, g0, Isp ]"
   ]
  },
  {
   "cell_type": "code",
   "execution_count": 5,
   "metadata": {},
   "outputs": [],
   "source": [
    "@numba.njit\n",
    "def dynamics(x, u, params):\n",
    "    Cd = params[0]\n",
    "    S_ref = params[1]\n",
    "    thrust = params[2]\n",
    "    g0 = params[3]\n",
    "    Isp = params[4]\n",
    "    Cda = Cd * S_ref \n",
    "    cos_theta  = np.cos(u)\n",
    "    sin_theta  = np.sin(u)\n",
    "    rho = 1.225 * np.exp( x[:,1]  /8.44e3)\n",
    "\n",
    "    dx = np.zeros_like(x)\n",
    "    dx[:,0] = x[:,3]\n",
    "    dx[:,1] = x[:,4]\n",
    "    v_mag_sq = dx[:,0] **2 + dx[:,1]**2\n",
    "    fd_ = 0.5 * rho * Cda * np.sqrt(v_mag_sq) \n",
    "    dx[:,3] =  (thrust * cos_theta - fd_ * dx[:,0]**2 ) / x[:,5] \n",
    "    dx[:,4] =  (thrust * sin_theta - fd_ * dx[:,1]**2 )  / x[:,5] - g0\n",
    "    dx[:,5] =  thrust / g0 / Isp\n",
    "    return dx\n",
    "\n",
    "@numba.njit\n",
    "def objective(N, dt):\n",
    "    return N*dt\n",
    "\n",
    "# Define the dynamics defects\n",
    "@numba.njit\n",
    "def state_defects(decision_variables, args):\n",
    "    N = args[0] \n",
    "    states_dim = args[1] \n",
    "    dt = args[2]\n",
    "    # Index [0 N )in the decision_variables vector contains the control inputs \n",
    "    u = decision_variables[:N]\n",
    "    # Index [N -1] in the decision_variables vector contains the state  \n",
    "    x = decision_variables[N:].reshape((N+1, states_dim))\n",
    "    # Calculate the dynamics\n",
    "    x_dot = dynamics(x, u)\n",
    "    # Calculate the approximation of integral using trapezoidal quadrature\n",
    "    integral = ((x_dot[:-1] + x_dot[1:])) / 2 * dt\n",
    "    # Calculate the state defects\n",
    "    defects = x[1:] - x[:-1]  - integral\n",
    "\n",
    "    return defects.transpose().flatten()"
   ]
  },
  {
   "cell_type": "code",
   "execution_count": 6,
   "metadata": {},
   "outputs": [],
   "source": [
    "# Define the initial and final states \n",
    "mue = 3.986004418e14\n",
    "v_cir = np.sqrt(mue /6_378_200 )\n",
    "x0 = [0.0, 0.0, 0.0, 0.0, 117_000]  # initial position and velocity mass\n",
    "xf = [None, 185_000, v_cir, 0.0, None]  # final position and velocity \n",
    "states_dim = 5\n",
    "N = 50 # Number of collocation points, \n",
    "\n",
    "# Define the number of time steps\n",
    "\n",
    "# Define the constants\n",
    "\n",
    "\n",
    "#bounds of pitch angle\n",
    "u_b = np.pi /2 \n",
    "l_b = -np.pi /2 "
   ]
  },
  {
   "cell_type": "code",
   "execution_count": 7,
   "metadata": {},
   "outputs": [],
   "source": [
    "final_mass_guess = 0.1 *  117_000 \n",
    "final_time_guess = 117_000* 0.9 / (thrust / g0 / Isp)\n"
   ]
  },
  {
   "cell_type": "code",
   "execution_count": 8,
   "metadata": {},
   "outputs": [],
   "source": [
    "# phase.set_time_val(initial=0.0, duration=150.0)\n",
    "# phase.set_state_val('x', [0, 1.15E5])\n",
    "# phase.set_state_val('y', [0, 1.85E5])\n",
    "# phase.set_state_val('vy', [1.0E-6, 0])\n",
    "# phase.set_state_val('m', [117000, 1163])\n",
    "# phase.set_control_val('theta', [1.5, -0.76])\n",
    "# phase.set_parameter_val('thrust', 2.1, units='MN')"
   ]
  },
  {
   "cell_type": "code",
   "execution_count": 9,
   "metadata": {},
   "outputs": [],
   "source": [
    "# Initial guess for control inputs\n",
    "u_init = np.zeros(N)\n",
    "u_init = np.linspace(1.5, -0.76, N) # Decision variable\n",
    "t_init  = np.linspace(0, final_time_guess, N+1) \n",
    "dt = t_init[1] - t_init[0]  # time step\n",
    "params =(N,states_dim,dt)\n",
    "\n",
    "# Initial guess for states\n",
    "x_init = np.zeros((N+1, states_dim))\n",
    "x_init[:, 0] = np.linspace(x0[0], 1.115e5, N+1) \n",
    "x_init[:, 1] = np.linspace(0, 1.85e5, N+1)\n",
    "x_init[:, 2] = np.linspace(0, v_cir, N+1)\n",
    "x_init[:, 3] = np.linspace(0, 0.0, N+1)\n",
    "x_init[:, 4] = np.linspace(117_000, 0.1 *  117_000, N+1)\n",
    "\n",
    "# Concatenate control inputs and states into a single decision variable\n",
    "initial_guess = np.concatenate([u_init, x_init.flatten()])\n"
   ]
  },
  {
   "cell_type": "code",
   "execution_count": null,
   "metadata": {},
   "outputs": [],
   "source": [
    "plot( t_init, [x_init[:, 0], x_init[:, 1]])"
   ]
  },
  {
   "cell_type": "code",
   "execution_count": null,
   "metadata": {},
   "outputs": [],
   "source": [
    "## Plot initial Guesses \n",
    "plot( t_init[:-1], u_init)"
   ]
  },
  {
   "cell_type": "code",
   "execution_count": null,
   "metadata": {},
   "outputs": [],
   "source": [
    "\n",
    "# Define the optimization problem\n",
    "def problem(decision_variables, args):\n",
    "    N = args[0] \n",
    "    dt = decision_variables[N+1]\n",
    "\n",
    "    obj_value = objective(N, dt)\n",
    "    \n",
    "    return obj_value\n",
    "\n",
    "# Define the bounds for the decision variables\n",
    "bounds = [(l_b, l_b)] * N \n",
    "num_state_bounds = states_dim*(N+1)\n",
    "\n",
    "state_bounds = [(0, None)] * num_state_bounds\n",
    "\n",
    "# for i in range(0,N+1):\n",
    "#     state_bounds[states_dim*i] = (0,None)\n",
    "\n",
    "\n",
    "bounds = bounds + state_bounds    \n",
    "#Enforcing Bound constraint on initial and final states\n",
    "bounds[N] = (0.0,1.85e5) # x \n",
    "bounds[N+1] = (1.85e5,1.85e5) # y\n",
    "bounds[N+2] = (0.0, 0.0) # v_x \n",
    "bounds[N +3] = (v_cir, v_cir) # v_y \n",
    "bounds[N +4] = (0, 10000) # mass\n",
    "\n",
    "# Final Bounds\n",
    "bounds[N+ num_state_bounds - states_dim + 0] = (1.0,1.0)\n",
    "bounds[N+ num_state_bounds - states_dim + 1] = (np.pi,np.pi)\n",
    "bounds[N+ num_state_bounds - states_dim + 2] = (0.0,0.0)\n",
    "bounds[N+ num_state_bounds - states_dim + 3] = (0.0,0.0)\n",
    "bounds[N+ num_state_bounds - states_dim + 3] = (0.0,0.0)\n",
    "\n",
    "arguments = (params,)\n",
    "# Define the constraints\n",
    "constraints = [{'type': 'eq', 'fun': state_defects, 'args':arguments },]\n",
    "# Solve the optimization problem\n",
    "\n",
    "result = minimize(problem, initial_guess, method='SLSQP', bounds=bounds, args=arguments, constraints=constraints)"
   ]
  },
  {
   "cell_type": "code",
   "execution_count": null,
   "metadata": {},
   "outputs": [],
   "source": [
    "# Extract the optimal control inputs and states\n",
    "u_opt = result.x[:N]\n",
    "\n",
    "x_opt = result.x[N:].reshape((N+1, states_dim))"
   ]
  },
  {
   "cell_type": "code",
   "execution_count": null,
   "metadata": {},
   "outputs": [],
   "source": []
  }
 ],
 "metadata": {
  "kernelspec": {
   "display_name": "space-traj-opt-JRbM3DHw-py3.10",
   "language": "python",
   "name": "python3"
  },
  "language_info": {
   "codemirror_mode": {
    "name": "ipython",
    "version": 3
   },
   "file_extension": ".py",
   "mimetype": "text/x-python",
   "name": "python",
   "nbconvert_exporter": "python",
   "pygments_lexer": "ipython3",
   "version": "3.10.12"
  }
 },
 "nbformat": 4,
 "nbformat_minor": 2
}
