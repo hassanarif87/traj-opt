{
 "cells": [
  {
   "cell_type": "code",
   "execution_count": null,
   "metadata": {},
   "outputs": [],
   "source": [
    "import numpy as np\n",
    "import numba\n",
    "import matplotlib.pyplot as plt\n",
    "from scipy.optimize import minimize\n",
    "from scipy.integrate import solve_ivp\n",
    "from space_traj_opt.plotting import plot"
   ]
  },
  {
   "cell_type": "code",
   "execution_count": null,
   "metadata": {},
   "outputs": [],
   "source": [
    "thrust = 210000.0\n",
    "g0 = 1.61544\n",
    "STANDARD_GRAV = 9.81\n",
    "Isp = 265.2 \n",
    "a0 = -0.001\n",
    "b0 = 3.0\n",
    "params = (thrust, g0, Isp, a0, b0)\n",
    "\n",
    "x0 = np.array([0,0,0,0,50000])"
   ]
  },
  {
   "cell_type": "code",
   "execution_count": null,
   "metadata": {},
   "outputs": [],
   "source": [
    "@numba.njit\n",
    "def lts_control(t, x , params):\n",
    "    a = params[3]\n",
    "    b = params[4]\n",
    "    return np.arctan(a*t+ b)\n",
    "\n",
    "@numba.njit\n",
    "def dynamics(t, x, params):\n",
    "    thrust = params[0]\n",
    "    g = params[1]\n",
    "    Isp = params[2]\n",
    "    u = lts_control(t, x, params)\n",
    "\n",
    "    cos_theta  = np.cos(u)\n",
    "    sin_theta  = np.sin(u)\n",
    "    dx = np.zeros_like(x)\n",
    "    dx[0] = x[2]\n",
    "    dx[1] = x[3]\n",
    "    dx[2] =  (thrust * cos_theta ) / x[4] \n",
    "    dx[3] =  (thrust * sin_theta )  / x[4] - g\n",
    "    dx[4] =  -thrust / STANDARD_GRAV / Isp\n",
    "    return dx"
   ]
  },
  {
   "cell_type": "code",
   "execution_count": null,
   "metadata": {},
   "outputs": [],
   "source": [
    "def mass_limit(t, x, params):\n",
    "    return x[4]\n",
    "\n",
    "mass_limit.terminal = True\n",
    "mass_limit.direction = -1  # Terminate when value crosses zero"
   ]
  },
  {
   "cell_type": "code",
   "execution_count": null,
   "metadata": {},
   "outputs": [],
   "source": [
    "sol = solve_ivp(\n",
    "    dynamics, \n",
    "    t_span=[0, 500], \n",
    "    y0=x0,    args=(params,), \n",
    "    events=mass_limit)"
   ]
  },
  {
   "cell_type": "code",
   "execution_count": null,
   "metadata": {},
   "outputs": [],
   "source": [
    "mdot = thrust / STANDARD_GRAV / Isp\n",
    "\n",
    "t_max = 50000 / mdot"
   ]
  },
  {
   "cell_type": "code",
   "execution_count": null,
   "metadata": {},
   "outputs": [],
   "source": [
    "# Fin a0, and b0 Such that \n",
    "a0 = -0.001\n",
    "b0 = 3.0\n",
    "t_guess = 500\n",
    "terminal_x = [None, 1.8500e+05, 1.6270e+03, 0, None]\n",
    "t_normalized = 1\n",
    "decision_var_init = [a0, b0, t_normalized]\n",
    "\n",
    "arguments = [\n",
    "    x0,\n",
    "    (thrust, g0, Isp)\n",
    "]\n",
    "def problem (decision_var,params):\n",
    "    x0 = params[0]\n",
    "    thrust, g0, Isp = params[1]\n",
    "    args= (thrust, g0, Isp, decision_var[0], decision_var[1])\n",
    "    sol = solve_ivp(\n",
    "    dynamics, \n",
    "        t_span=[0, decision_var[2] * t_guess], \n",
    "        y0=x0, \n",
    "        args=(args,)\n",
    "        )\n",
    "    xf_x, xf_y, xf_vx, xf_vy, mf = sol.y[:,-1]\n",
    "    cost =  100*((xf_y - 1.8500e+05) / 1.8500e+05)**2 + \\\n",
    "            150*((xf_vx - 1.6270e+03)/1.6270e+03)**2 + \\\n",
    "            10*(xf_vy/1.6270e+03)**2 + 0.001*decision_var[2]**2\n",
    "    return cost\n",
    "\n",
    "bounds = [\n",
    "    (-1,1),\n",
    "    (-5,5),\n",
    "    (None, t_max),\n",
    "    ]"
   ]
  },
  {
   "cell_type": "code",
   "execution_count": null,
   "metadata": {},
   "outputs": [],
   "source": [
    "result = minimize(problem, decision_var_init, method='SLSQP', bounds=bounds, args=arguments)\n",
    "result"
   ]
  },
  {
   "cell_type": "code",
   "execution_count": null,
   "metadata": {},
   "outputs": [],
   "source": [
    "a_opt, b_opt, t_normalized_opt = result.x\n",
    "params_opt = (thrust, g0, Isp, a_opt, b_opt)\n"
   ]
  },
  {
   "cell_type": "code",
   "execution_count": null,
   "metadata": {},
   "outputs": [],
   "source": [
    "a_opt, b_opt"
   ]
  },
  {
   "cell_type": "code",
   "execution_count": null,
   "metadata": {},
   "outputs": [],
   "source": [
    "t_normalized_opt*t_guess"
   ]
  },
  {
   "cell_type": "code",
   "execution_count": null,
   "metadata": {},
   "outputs": [],
   "source": [
    "t_eval = np.arange(0.0, t_normalized_opt*t_guess, 5)\n",
    "t_eval = np.append(t_eval, t_normalized_opt*t_guess)\n",
    "sol = solve_ivp(\n",
    "    dynamics, \n",
    "    t_span=[0, t_normalized_opt*t_guess], \n",
    "    y0=x0,    \n",
    "    t_eval=t_eval,\n",
    "    args=(params_opt,), \n",
    "    events=mass_limit)"
   ]
  },
  {
   "cell_type": "code",
   "execution_count": null,
   "metadata": {},
   "outputs": [],
   "source": [
    "u_opt = lts_control(t_eval, sol.y, params_opt)"
   ]
  },
  {
   "cell_type": "code",
   "execution_count": null,
   "metadata": {},
   "outputs": [],
   "source": [
    "plot( sol.y[0], [sol.y[1]], title=\"Alt vs downrange\", xlabel=\"X\", ylabel=\"Y\", )"
   ]
  },
  {
   "cell_type": "code",
   "execution_count": null,
   "metadata": {},
   "outputs": [],
   "source": [
    "plot(\n",
    "    sol.t, [u_opt], y2 = [np.tan(u_opt)],\n",
    "    title=\"Time vs Pitch steering\", \n",
    "    xlabel=\"Time\", \n",
    "    ylabel=(\"theta\", \"tan_theta\"),\n",
    "    trace_names=(\"theta\", \"tan_theta\")\n",
    "    )"
   ]
  },
  {
   "cell_type": "code",
   "execution_count": null,
   "metadata": {},
   "outputs": [],
   "source": [
    "plot(\n",
    "    sol.t,[sol.y[0], sol.y[1]], y2 = [sol.y[2], sol.y[3]],\n",
    "    title=\"Time vs States\", \n",
    "    xlabel=\"Time\", \n",
    "    ylabel=(\"Pos\", \"Vel\"),\n",
    "    trace_names=(\"pos_x\", \"pos_y\", \"vel_x\", \"vel_y\")\n",
    "    )"
   ]
  },
  {
   "cell_type": "code",
   "execution_count": null,
   "metadata": {},
   "outputs": [],
   "source": [
    "plot( sol.t, [sol.y[4]], title=\"time vs Mass\", xlabel=\"Time\", ylabel=\"Mass\")"
   ]
  }
 ],
 "metadata": {
  "kernelspec": {
   "display_name": "space-traj-opt-JRbM3DHw-py3.10",
   "language": "python",
   "name": "python3"
  },
  "language_info": {
   "codemirror_mode": {
    "name": "ipython",
    "version": 3
   },
   "file_extension": ".py",
   "mimetype": "text/x-python",
   "name": "python",
   "nbconvert_exporter": "python",
   "pygments_lexer": "ipython3",
   "version": "3.10.12"
  }
 },
 "nbformat": 4,
 "nbformat_minor": 2
}
