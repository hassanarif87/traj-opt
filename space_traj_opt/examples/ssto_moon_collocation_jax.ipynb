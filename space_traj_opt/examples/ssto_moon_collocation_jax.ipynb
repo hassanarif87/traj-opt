{
 "cells": [
  {
   "cell_type": "code",
   "execution_count": null,
   "metadata": {},
   "outputs": [],
   "source": [
    "import jax.numpy as jnp\n",
    "from jax import jit\n",
    "from jax import grad , jacfwd\n",
    "import numpy as np\n",
    "import matplotlib.pyplot as plt\n",
    "from scipy.optimize import minimize\n",
    "from space_traj_opt.plotting import plot"
   ]
  },
  {
   "cell_type": "code",
   "execution_count": null,
   "metadata": {},
   "outputs": [],
   "source": [
    "thrust = 210000.0\n",
    "g0 = 1.61544\n",
    "STANDARD_GRAV = 9.81\n",
    "Isp = 265.2 \n",
    "mdot = thrust / STANDARD_GRAV / Isp\n",
    "\n",
    "vch_params = (thrust, g0, mdot)\n",
    "\n",
    "x0 = jnp.array([0,0,0,0,50000])"
   ]
  },
  {
   "cell_type": "code",
   "execution_count": null,
   "metadata": {},
   "outputs": [],
   "source": [
    "@jit\n",
    "def dynamics(x, u, params):\n",
    "\n",
    "    thrust = params[0]\n",
    "    g0 = params[1]\n",
    "    mdot = params[2]\n",
    "    u_ = jnp.append(u, u[-1])\n",
    "    cos_theta  = jnp.cos(u_)\n",
    "    sin_theta  = jnp.sin(u_)\n",
    "    dx = jnp.zeros_like(x)\n",
    "    dx =dx.at[:, 0].set(x[:,2])\n",
    "    dx =dx.at[:, 1].set(x[:,3])\n",
    "    dx =dx.at[:, 2].set((thrust * cos_theta) / x[:,4] )\n",
    "    dx =dx.at[:, 3].set((thrust * sin_theta)  / x[:,4] - g0)\n",
    "    dx =dx.at[:, 4].set(-80.71918487460852) \n",
    "    return dx\n",
    "\n",
    "\n",
    "# Define the dynamics defects\n",
    "# @jit\n",
    "def state_defects(decision_variables: jnp.array, args):\n",
    "    N = args[0] \n",
    "    states_dim = args[1] \n",
    "    params = args[2]\n",
    "    # Index [0 N )in the decision_variables vector contains the control inputs \n",
    "    u = decision_variables[:N]\n",
    "    # Index [N -1] in the decision_variables vector contains the state  \n",
    "    x = decision_variables[N:-1].reshape((N+1, states_dim))\n",
    "    dt = decision_variables[-1] # Time is the last decision var here\n",
    "    # Calculate the dynamics\n",
    "    x_dot = dynamics(x, u, params)\n",
    "    # Calculate the approximation of integral using trapezoidal quadrature\n",
    "    integral = ((x_dot[:-1] + x_dot[1:])) / 2 * dt\n",
    "    # Calculate the state defects\n",
    "    defects = x[1:] - x[:-1]  - integral\n",
    "    return defects.transpose().flatten()"
   ]
  },
  {
   "cell_type": "code",
   "execution_count": null,
   "metadata": {},
   "outputs": [],
   "source": [
    "state_defects_jac = jacfwd(state_defects)"
   ]
  },
  {
   "cell_type": "code",
   "execution_count": null,
   "metadata": {},
   "outputs": [],
   "source": [
    "# Define the initial and final states \n",
    "x0 = jnp.array([0,0,0,0,50000])\n",
    "terminal_x = [None, 1.8500e+05, 1.6270e+03, 0, None]\n",
    "_, xf_y, xf_vx, xf_vy, _ = terminal_x\n",
    "states_dim = 5\n",
    "N = 25 # Number of collocation points, \n",
    "full_params = (N,states_dim, vch_params)\n",
    "\n",
    "#bounds of pitch angle\n",
    "u_b = jnp.pi/2\n",
    "l_b = -jnp.pi/2"
   ]
  },
  {
   "cell_type": "code",
   "execution_count": null,
   "metadata": {},
   "outputs": [],
   "source": [
    "mdot"
   ]
  },
  {
   "cell_type": "code",
   "execution_count": null,
   "metadata": {},
   "outputs": [],
   "source": [
    "mdot = thrust / STANDARD_GRAV / Isp\n",
    "t_max = 50000 / mdot\n",
    "dt_max = t_max/ N"
   ]
  },
  {
   "cell_type": "code",
   "execution_count": null,
   "metadata": {},
   "outputs": [],
   "source": [
    "# Initial guess for control inputs\n",
    "t_init  = jnp.linspace(0, 450, N+1) \n",
    "\n",
    "u_init = jnp.linspace(1.3, -0.76, N) # Decision variable\n",
    "\n",
    "dt_init = t_init[1] - t_init[0]  # time step\n",
    "\n",
    "# Initial guess for states\n",
    "x_init = jnp.zeros((N+1, states_dim))\n",
    "x_init =  x_init.at[:, 0].set(jnp.linspace(0., 215e3, N+1))\n",
    "x_init =  x_init.at[:, 1].set(jnp.linspace(0., xf_y, N+1))\n",
    "x_init =  x_init.at[:, 2].set(jnp.linspace(0., xf_vx, N+1))\n",
    "x_init =  x_init.at[:, 3].set(jnp.linspace(0., xf_vy, N+1))\n",
    "x_init =  x_init.at[:, 4].set(jnp.linspace(50000., 0.2 *  50000., N+1))\n",
    "\n",
    "# Concatenate control inputs and states into a single decision variable\n",
    "initial_guess = jnp.concatenate([u_init, x_init.flatten(), jnp.array([dt_init])])"
   ]
  },
  {
   "cell_type": "code",
   "execution_count": null,
   "metadata": {},
   "outputs": [],
   "source": [
    "#@jit\n",
    "def objective(decision_variables, args):\n",
    "    N = args[0] \n",
    "    #u = decision_variables[:N]\n",
    "    # Index [N -1] in the decision_variables vector contains the state  \n",
    "    x = decision_variables[N:-1].reshape((N+1, states_dim))\n",
    "    dt = decision_variables[-1] # Time is the last decision var here\n",
    "    return  100.*dt *float(N) #+ jnp.sum(defects )**2 - jnp.sum((x[:,4]/500.0)**2) \n",
    "#\n",
    "objective_grad = grad(objective) \n",
    "\n",
    "\n",
    "# Define the bounds for the decision variables\n",
    "bounds = [(l_b, u_b)] * N # this case it is the control parameter for the trajectory, the pitch command\n",
    "num_state_bounds = states_dim*(N+1)\n",
    "\n",
    "state_bounds = [(0, np.inf)] * num_state_bounds\n",
    "\n",
    "# for i in range(0,N+1):\n",
    "#     state_bounds[states_dim*i] = (0,None)\n",
    "\n",
    "xf_y, xf_vx, xf_vy\n",
    "bounds = bounds + state_bounds    \n",
    "#Enforcing Bound constraint on initial and final states\n",
    "bounds[N]    = (0.0,0.0) # x \n",
    "bounds[N+1]  = (0.0,0.0) # y\n",
    "bounds[N+2]  = (0.0, 0.0) # v_x \n",
    "bounds[N+3] = (0.0, 0.0) # v_y \n",
    "bounds[N+4] = (50000, 50000) # mass\n",
    "\n",
    "# Final Bounds\n",
    "bounds[N+ num_state_bounds - states_dim + 0] = (0.0,np.inf) # x \n",
    "bounds[N+ num_state_bounds - states_dim + 1] = (xf_y,xf_y) # y\n",
    "bounds[N+ num_state_bounds - states_dim + 2] = (xf_vx, xf_vx) # v_x \n",
    "bounds[N+ num_state_bounds - states_dim + 3] = (xf_vy, xf_vy) # v_y \n",
    "bounds[N+ num_state_bounds - states_dim + 4] = (0, 30000) # mass\n",
    "bounds = bounds + [(dt_max/2, dt_max)] # Adding time bound \n",
    "\n",
    "arguments = (full_params,)\n",
    "\n",
    "\n",
    "# Define the constraints\n",
    "constraints = [{'type': 'eq', 'fun': state_defects, 'jac': state_defects_jac, 'args':arguments },]\n"
   ]
  },
  {
   "cell_type": "code",
   "execution_count": null,
   "metadata": {},
   "outputs": [],
   "source": [
    "result = minimize(\n",
    "    objective, \n",
    "    initial_guess, \n",
    "    method='SLSQP', \n",
    "    bounds=bounds, \n",
    "    args=arguments, \n",
    "    constraints=constraints, \n",
    "    jac=objective_grad, \n",
    "    options = {\"maxiter\": 500, \"disp\": True},\n",
    "    tol= 1e-2\n",
    "    )\n",
    "print(result)\n"
   ]
  },
  {
   "cell_type": "code",
   "execution_count": null,
   "metadata": {},
   "outputs": [],
   "source": [
    "u = result.x[:N]\n",
    "# Index [N -1] in the decision_variables vector contains the state  \n",
    "x = result.x[N:-1].reshape((N+1, states_dim))\n",
    "dt = result.x[-1] # Time"
   ]
  },
  {
   "cell_type": "code",
   "execution_count": null,
   "metadata": {},
   "outputs": [],
   "source": [
    "t = jnp.linspace(0, N*dt, N+1) "
   ]
  },
  {
   "cell_type": "code",
   "execution_count": null,
   "metadata": {},
   "outputs": [],
   "source": [
    "plot(\n",
    "    t, [u],\n",
    "    title=\"Time vs Pitch steering\", \n",
    "    xlabel=\"Time\", \n",
    "    ylabel=\"theta\",\n",
    "    )"
   ]
  },
  {
   "cell_type": "code",
   "execution_count": null,
   "metadata": {},
   "outputs": [],
   "source": [
    "plot(\n",
    "    t,[x[:,0], x[:,1]], y2 = [x[:,2], x[:,3]],\n",
    "    title=\"Time vs States\", \n",
    "    xlabel=\"Time\", \n",
    "    ylabel=(\"Pos\", \"Vel\"),\n",
    "    trace_names=(\"pos_x\", \"pos_y\", \"vel_x\", \"vel_y\")\n",
    "    )"
   ]
  },
  {
   "cell_type": "code",
   "execution_count": null,
   "metadata": {},
   "outputs": [],
   "source": [
    "plot( t, [x[:,4]], title=\"time vs Mass\", xlabel=\"Time\", ylabel=\"Mass\")"
   ]
  },
  {
   "cell_type": "code",
   "execution_count": null,
   "metadata": {},
   "outputs": [],
   "source": []
  },
  {
   "cell_type": "code",
   "execution_count": null,
   "metadata": {},
   "outputs": [],
   "source": []
  }
 ],
 "metadata": {
  "kernelspec": {
   "display_name": "space-traj-opt-JRbM3DHw-py3.10",
   "language": "python",
   "name": "python3"
  },
  "language_info": {
   "codemirror_mode": {
    "name": "ipython",
    "version": 3
   },
   "file_extension": ".py",
   "mimetype": "text/x-python",
   "name": "python",
   "nbconvert_exporter": "python",
   "pygments_lexer": "ipython3",
   "version": "3.10.12"
  }
 },
 "nbformat": 4,
 "nbformat_minor": 2
}
